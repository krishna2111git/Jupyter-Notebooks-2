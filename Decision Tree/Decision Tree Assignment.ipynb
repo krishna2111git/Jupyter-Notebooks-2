{
 "cells": [
  {
   "cell_type": "code",
   "execution_count": 320,
   "id": "e2abf597",
   "metadata": {},
   "outputs": [],
   "source": [
    "import warnings\n",
    "warnings.filterwarnings('ignore')"
   ]
  },
  {
   "cell_type": "code",
   "execution_count": 1,
   "id": "602a8572",
   "metadata": {},
   "outputs": [],
   "source": [
    "from sklearn.preprocessing import LabelEncoder"
   ]
  },
  {
   "cell_type": "code",
   "execution_count": 2,
   "id": "617f8bfe",
   "metadata": {},
   "outputs": [
    {
     "data": {
      "application/javascript": [
       "\n",
       "        if (window._pyforest_update_imports_cell) { window._pyforest_update_imports_cell('import pandas as pd'); }\n",
       "    "
      ],
      "text/plain": [
       "<IPython.core.display.Javascript object>"
      ]
     },
     "metadata": {},
     "output_type": "display_data"
    },
    {
     "data": {
      "text/html": [
       "<div>\n",
       "<style scoped>\n",
       "    .dataframe tbody tr th:only-of-type {\n",
       "        vertical-align: middle;\n",
       "    }\n",
       "\n",
       "    .dataframe tbody tr th {\n",
       "        vertical-align: top;\n",
       "    }\n",
       "\n",
       "    .dataframe thead th {\n",
       "        text-align: right;\n",
       "    }\n",
       "</style>\n",
       "<table border=\"1\" class=\"dataframe\">\n",
       "  <thead>\n",
       "    <tr style=\"text-align: right;\">\n",
       "      <th></th>\n",
       "      <th>age</th>\n",
       "      <th>sex</th>\n",
       "      <th>cp</th>\n",
       "      <th>trestbps</th>\n",
       "      <th>chol</th>\n",
       "      <th>fbs</th>\n",
       "      <th>restecg</th>\n",
       "      <th>thalch</th>\n",
       "      <th>exang</th>\n",
       "      <th>oldpeak</th>\n",
       "      <th>slope</th>\n",
       "      <th>thal</th>\n",
       "      <th>num</th>\n",
       "    </tr>\n",
       "  </thead>\n",
       "  <tbody>\n",
       "    <tr>\n",
       "      <th>0</th>\n",
       "      <td>63</td>\n",
       "      <td>Male</td>\n",
       "      <td>typical angina</td>\n",
       "      <td>145</td>\n",
       "      <td>233</td>\n",
       "      <td>True</td>\n",
       "      <td>lv hypertrophy</td>\n",
       "      <td>150</td>\n",
       "      <td>False</td>\n",
       "      <td>2.3</td>\n",
       "      <td>downsloping</td>\n",
       "      <td>fixed defect</td>\n",
       "      <td>0</td>\n",
       "    </tr>\n",
       "    <tr>\n",
       "      <th>1</th>\n",
       "      <td>41</td>\n",
       "      <td>Male</td>\n",
       "      <td>atypical angina</td>\n",
       "      <td>135</td>\n",
       "      <td>203</td>\n",
       "      <td>False</td>\n",
       "      <td>normal</td>\n",
       "      <td>132</td>\n",
       "      <td>False</td>\n",
       "      <td>0.0</td>\n",
       "      <td>flat</td>\n",
       "      <td>fixed defect</td>\n",
       "      <td>0</td>\n",
       "    </tr>\n",
       "    <tr>\n",
       "      <th>2</th>\n",
       "      <td>57</td>\n",
       "      <td>Male</td>\n",
       "      <td>asymptomatic</td>\n",
       "      <td>140</td>\n",
       "      <td>192</td>\n",
       "      <td>False</td>\n",
       "      <td>normal</td>\n",
       "      <td>148</td>\n",
       "      <td>False</td>\n",
       "      <td>0.4</td>\n",
       "      <td>flat</td>\n",
       "      <td>fixed defect</td>\n",
       "      <td>0</td>\n",
       "    </tr>\n",
       "    <tr>\n",
       "      <th>3</th>\n",
       "      <td>52</td>\n",
       "      <td>Male</td>\n",
       "      <td>typical angina</td>\n",
       "      <td>118</td>\n",
       "      <td>186</td>\n",
       "      <td>False</td>\n",
       "      <td>lv hypertrophy</td>\n",
       "      <td>190</td>\n",
       "      <td>False</td>\n",
       "      <td>0.0</td>\n",
       "      <td>flat</td>\n",
       "      <td>fixed defect</td>\n",
       "      <td>0</td>\n",
       "    </tr>\n",
       "    <tr>\n",
       "      <th>4</th>\n",
       "      <td>57</td>\n",
       "      <td>Male</td>\n",
       "      <td>asymptomatic</td>\n",
       "      <td>110</td>\n",
       "      <td>201</td>\n",
       "      <td>False</td>\n",
       "      <td>normal</td>\n",
       "      <td>126</td>\n",
       "      <td>True</td>\n",
       "      <td>1.5</td>\n",
       "      <td>flat</td>\n",
       "      <td>fixed defect</td>\n",
       "      <td>0</td>\n",
       "    </tr>\n",
       "    <tr>\n",
       "      <th>...</th>\n",
       "      <td>...</td>\n",
       "      <td>...</td>\n",
       "      <td>...</td>\n",
       "      <td>...</td>\n",
       "      <td>...</td>\n",
       "      <td>...</td>\n",
       "      <td>...</td>\n",
       "      <td>...</td>\n",
       "      <td>...</td>\n",
       "      <td>...</td>\n",
       "      <td>...</td>\n",
       "      <td>...</td>\n",
       "      <td>...</td>\n",
       "    </tr>\n",
       "    <tr>\n",
       "      <th>903</th>\n",
       "      <td>53</td>\n",
       "      <td>Male</td>\n",
       "      <td>asymptomatic</td>\n",
       "      <td>125</td>\n",
       "      <td>0</td>\n",
       "      <td>False</td>\n",
       "      <td>normal</td>\n",
       "      <td>120</td>\n",
       "      <td>False</td>\n",
       "      <td>1.5</td>\n",
       "      <td>upsloping</td>\n",
       "      <td>reversable defect</td>\n",
       "      <td>4</td>\n",
       "    </tr>\n",
       "    <tr>\n",
       "      <th>904</th>\n",
       "      <td>62</td>\n",
       "      <td>Male</td>\n",
       "      <td>asymptomatic</td>\n",
       "      <td>166</td>\n",
       "      <td>170</td>\n",
       "      <td>False</td>\n",
       "      <td>st-t abnormality</td>\n",
       "      <td>120</td>\n",
       "      <td>True</td>\n",
       "      <td>3.0</td>\n",
       "      <td>flat</td>\n",
       "      <td>reversable defect</td>\n",
       "      <td>4</td>\n",
       "    </tr>\n",
       "    <tr>\n",
       "      <th>905</th>\n",
       "      <td>56</td>\n",
       "      <td>Male</td>\n",
       "      <td>non-anginal</td>\n",
       "      <td>170</td>\n",
       "      <td>0</td>\n",
       "      <td>False</td>\n",
       "      <td>lv hypertrophy</td>\n",
       "      <td>123</td>\n",
       "      <td>True</td>\n",
       "      <td>2.5</td>\n",
       "      <td>downsloping</td>\n",
       "      <td>normal</td>\n",
       "      <td>4</td>\n",
       "    </tr>\n",
       "    <tr>\n",
       "      <th>906</th>\n",
       "      <td>56</td>\n",
       "      <td>Male</td>\n",
       "      <td>non-anginal</td>\n",
       "      <td>144</td>\n",
       "      <td>208</td>\n",
       "      <td>True</td>\n",
       "      <td>st-t abnormality</td>\n",
       "      <td>105</td>\n",
       "      <td>TURE</td>\n",
       "      <td>NaN</td>\n",
       "      <td>downsloping</td>\n",
       "      <td>fixed defect</td>\n",
       "      <td>4</td>\n",
       "    </tr>\n",
       "    <tr>\n",
       "      <th>907</th>\n",
       "      <td>57</td>\n",
       "      <td>Male</td>\n",
       "      <td>asymptomatic</td>\n",
       "      <td>142</td>\n",
       "      <td>277</td>\n",
       "      <td>True</td>\n",
       "      <td>st-t abnormality</td>\n",
       "      <td>182</td>\n",
       "      <td>FALSE</td>\n",
       "      <td>NaN</td>\n",
       "      <td>flat</td>\n",
       "      <td>reversable defect</td>\n",
       "      <td>4</td>\n",
       "    </tr>\n",
       "  </tbody>\n",
       "</table>\n",
       "<p>908 rows × 13 columns</p>\n",
       "</div>"
      ],
      "text/plain": [
       "     age   sex               cp  trestbps  chol    fbs           restecg  \\\n",
       "0     63  Male   typical angina       145   233   True    lv hypertrophy   \n",
       "1     41  Male  atypical angina       135   203  False            normal   \n",
       "2     57  Male     asymptomatic       140   192  False            normal   \n",
       "3     52  Male   typical angina       118   186  False    lv hypertrophy   \n",
       "4     57  Male     asymptomatic       110   201  False            normal   \n",
       "..   ...   ...              ...       ...   ...    ...               ...   \n",
       "903   53  Male     asymptomatic       125     0  False            normal   \n",
       "904   62  Male     asymptomatic       166   170  False  st-t abnormality   \n",
       "905   56  Male      non-anginal       170     0  False    lv hypertrophy   \n",
       "906   56  Male      non-anginal       144   208   True  st-t abnormality   \n",
       "907   57  Male     asymptomatic       142   277   True  st-t abnormality   \n",
       "\n",
       "     thalch  exang  oldpeak        slope               thal  num  \n",
       "0       150  False      2.3  downsloping       fixed defect    0  \n",
       "1       132  False      0.0         flat       fixed defect    0  \n",
       "2       148  False      0.4         flat       fixed defect    0  \n",
       "3       190  False      0.0         flat       fixed defect    0  \n",
       "4       126   True      1.5         flat       fixed defect    0  \n",
       "..      ...    ...      ...          ...                ...  ...  \n",
       "903     120  False      1.5    upsloping  reversable defect    4  \n",
       "904     120   True      3.0         flat  reversable defect    4  \n",
       "905     123   True      2.5  downsloping             normal    4  \n",
       "906     105   TURE      NaN  downsloping       fixed defect    4  \n",
       "907     182  FALSE      NaN         flat  reversable defect    4  \n",
       "\n",
       "[908 rows x 13 columns]"
      ]
     },
     "execution_count": 2,
     "metadata": {},
     "output_type": "execute_result"
    }
   ],
   "source": [
    "df = pd.read_excel('heart_disease.xlsx', sheet_name='Heart_disease')\n",
    "df"
   ]
  },
  {
   "cell_type": "code",
   "execution_count": 3,
   "id": "be05f9aa",
   "metadata": {},
   "outputs": [
    {
     "name": "stdout",
     "output_type": "stream",
     "text": [
      "<class 'pandas.core.frame.DataFrame'>\n",
      "RangeIndex: 908 entries, 0 to 907\n",
      "Data columns (total 13 columns):\n",
      " #   Column    Non-Null Count  Dtype  \n",
      "---  ------    --------------  -----  \n",
      " 0   age       908 non-null    int64  \n",
      " 1   sex       908 non-null    object \n",
      " 2   cp        908 non-null    object \n",
      " 3   trestbps  908 non-null    int64  \n",
      " 4   chol      908 non-null    int64  \n",
      " 5   fbs       908 non-null    bool   \n",
      " 6   restecg   908 non-null    object \n",
      " 7   thalch    908 non-null    int64  \n",
      " 8   exang     908 non-null    object \n",
      " 9   oldpeak   846 non-null    float64\n",
      " 10  slope     908 non-null    object \n",
      " 11  thal      908 non-null    object \n",
      " 12  num       908 non-null    int64  \n",
      "dtypes: bool(1), float64(1), int64(5), object(6)\n",
      "memory usage: 86.1+ KB\n"
     ]
    }
   ],
   "source": [
    "df.info()"
   ]
  },
  {
   "cell_type": "markdown",
   "id": "6ad79a9d",
   "metadata": {},
   "source": [
    "# Label Encoding the categorical columns (sex, cp, fbs, restecg, exang, slope, thal)"
   ]
  },
  {
   "cell_type": "code",
   "execution_count": 5,
   "id": "0ab2ff24",
   "metadata": {},
   "outputs": [],
   "source": [
    "# Instantiating LabelEncoder\n",
    "label_encoder = LabelEncoder()"
   ]
  },
  {
   "cell_type": "code",
   "execution_count": 6,
   "id": "08eba1c2",
   "metadata": {},
   "outputs": [
    {
     "data": {
      "text/html": [
       "<div>\n",
       "<style scoped>\n",
       "    .dataframe tbody tr th:only-of-type {\n",
       "        vertical-align: middle;\n",
       "    }\n",
       "\n",
       "    .dataframe tbody tr th {\n",
       "        vertical-align: top;\n",
       "    }\n",
       "\n",
       "    .dataframe thead th {\n",
       "        text-align: right;\n",
       "    }\n",
       "</style>\n",
       "<table border=\"1\" class=\"dataframe\">\n",
       "  <thead>\n",
       "    <tr style=\"text-align: right;\">\n",
       "      <th></th>\n",
       "      <th>age</th>\n",
       "      <th>sex</th>\n",
       "      <th>cp</th>\n",
       "      <th>trestbps</th>\n",
       "      <th>chol</th>\n",
       "      <th>fbs</th>\n",
       "      <th>restecg</th>\n",
       "      <th>thalch</th>\n",
       "      <th>exang</th>\n",
       "      <th>oldpeak</th>\n",
       "      <th>slope</th>\n",
       "      <th>thal</th>\n",
       "      <th>num</th>\n",
       "    </tr>\n",
       "  </thead>\n",
       "  <tbody>\n",
       "    <tr>\n",
       "      <th>0</th>\n",
       "      <td>63</td>\n",
       "      <td>1</td>\n",
       "      <td>typical angina</td>\n",
       "      <td>145</td>\n",
       "      <td>233</td>\n",
       "      <td>1</td>\n",
       "      <td>lv hypertrophy</td>\n",
       "      <td>150</td>\n",
       "      <td>False</td>\n",
       "      <td>2.3</td>\n",
       "      <td>downsloping</td>\n",
       "      <td>fixed defect</td>\n",
       "      <td>0</td>\n",
       "    </tr>\n",
       "    <tr>\n",
       "      <th>1</th>\n",
       "      <td>41</td>\n",
       "      <td>1</td>\n",
       "      <td>atypical angina</td>\n",
       "      <td>135</td>\n",
       "      <td>203</td>\n",
       "      <td>0</td>\n",
       "      <td>normal</td>\n",
       "      <td>132</td>\n",
       "      <td>False</td>\n",
       "      <td>0.0</td>\n",
       "      <td>flat</td>\n",
       "      <td>fixed defect</td>\n",
       "      <td>0</td>\n",
       "    </tr>\n",
       "    <tr>\n",
       "      <th>2</th>\n",
       "      <td>57</td>\n",
       "      <td>1</td>\n",
       "      <td>asymptomatic</td>\n",
       "      <td>140</td>\n",
       "      <td>192</td>\n",
       "      <td>0</td>\n",
       "      <td>normal</td>\n",
       "      <td>148</td>\n",
       "      <td>False</td>\n",
       "      <td>0.4</td>\n",
       "      <td>flat</td>\n",
       "      <td>fixed defect</td>\n",
       "      <td>0</td>\n",
       "    </tr>\n",
       "    <tr>\n",
       "      <th>3</th>\n",
       "      <td>52</td>\n",
       "      <td>1</td>\n",
       "      <td>typical angina</td>\n",
       "      <td>118</td>\n",
       "      <td>186</td>\n",
       "      <td>0</td>\n",
       "      <td>lv hypertrophy</td>\n",
       "      <td>190</td>\n",
       "      <td>False</td>\n",
       "      <td>0.0</td>\n",
       "      <td>flat</td>\n",
       "      <td>fixed defect</td>\n",
       "      <td>0</td>\n",
       "    </tr>\n",
       "    <tr>\n",
       "      <th>4</th>\n",
       "      <td>57</td>\n",
       "      <td>1</td>\n",
       "      <td>asymptomatic</td>\n",
       "      <td>110</td>\n",
       "      <td>201</td>\n",
       "      <td>0</td>\n",
       "      <td>normal</td>\n",
       "      <td>126</td>\n",
       "      <td>True</td>\n",
       "      <td>1.5</td>\n",
       "      <td>flat</td>\n",
       "      <td>fixed defect</td>\n",
       "      <td>0</td>\n",
       "    </tr>\n",
       "    <tr>\n",
       "      <th>...</th>\n",
       "      <td>...</td>\n",
       "      <td>...</td>\n",
       "      <td>...</td>\n",
       "      <td>...</td>\n",
       "      <td>...</td>\n",
       "      <td>...</td>\n",
       "      <td>...</td>\n",
       "      <td>...</td>\n",
       "      <td>...</td>\n",
       "      <td>...</td>\n",
       "      <td>...</td>\n",
       "      <td>...</td>\n",
       "      <td>...</td>\n",
       "    </tr>\n",
       "    <tr>\n",
       "      <th>903</th>\n",
       "      <td>53</td>\n",
       "      <td>1</td>\n",
       "      <td>asymptomatic</td>\n",
       "      <td>125</td>\n",
       "      <td>0</td>\n",
       "      <td>0</td>\n",
       "      <td>normal</td>\n",
       "      <td>120</td>\n",
       "      <td>False</td>\n",
       "      <td>1.5</td>\n",
       "      <td>upsloping</td>\n",
       "      <td>reversable defect</td>\n",
       "      <td>4</td>\n",
       "    </tr>\n",
       "    <tr>\n",
       "      <th>904</th>\n",
       "      <td>62</td>\n",
       "      <td>1</td>\n",
       "      <td>asymptomatic</td>\n",
       "      <td>166</td>\n",
       "      <td>170</td>\n",
       "      <td>0</td>\n",
       "      <td>st-t abnormality</td>\n",
       "      <td>120</td>\n",
       "      <td>True</td>\n",
       "      <td>3.0</td>\n",
       "      <td>flat</td>\n",
       "      <td>reversable defect</td>\n",
       "      <td>4</td>\n",
       "    </tr>\n",
       "    <tr>\n",
       "      <th>905</th>\n",
       "      <td>56</td>\n",
       "      <td>1</td>\n",
       "      <td>non-anginal</td>\n",
       "      <td>170</td>\n",
       "      <td>0</td>\n",
       "      <td>0</td>\n",
       "      <td>lv hypertrophy</td>\n",
       "      <td>123</td>\n",
       "      <td>True</td>\n",
       "      <td>2.5</td>\n",
       "      <td>downsloping</td>\n",
       "      <td>normal</td>\n",
       "      <td>4</td>\n",
       "    </tr>\n",
       "    <tr>\n",
       "      <th>906</th>\n",
       "      <td>56</td>\n",
       "      <td>1</td>\n",
       "      <td>non-anginal</td>\n",
       "      <td>144</td>\n",
       "      <td>208</td>\n",
       "      <td>1</td>\n",
       "      <td>st-t abnormality</td>\n",
       "      <td>105</td>\n",
       "      <td>TURE</td>\n",
       "      <td>NaN</td>\n",
       "      <td>downsloping</td>\n",
       "      <td>fixed defect</td>\n",
       "      <td>4</td>\n",
       "    </tr>\n",
       "    <tr>\n",
       "      <th>907</th>\n",
       "      <td>57</td>\n",
       "      <td>1</td>\n",
       "      <td>asymptomatic</td>\n",
       "      <td>142</td>\n",
       "      <td>277</td>\n",
       "      <td>1</td>\n",
       "      <td>st-t abnormality</td>\n",
       "      <td>182</td>\n",
       "      <td>FALSE</td>\n",
       "      <td>NaN</td>\n",
       "      <td>flat</td>\n",
       "      <td>reversable defect</td>\n",
       "      <td>4</td>\n",
       "    </tr>\n",
       "  </tbody>\n",
       "</table>\n",
       "<p>908 rows × 13 columns</p>\n",
       "</div>"
      ],
      "text/plain": [
       "     age  sex               cp  trestbps  chol  fbs           restecg  thalch  \\\n",
       "0     63    1   typical angina       145   233    1    lv hypertrophy     150   \n",
       "1     41    1  atypical angina       135   203    0            normal     132   \n",
       "2     57    1     asymptomatic       140   192    0            normal     148   \n",
       "3     52    1   typical angina       118   186    0    lv hypertrophy     190   \n",
       "4     57    1     asymptomatic       110   201    0            normal     126   \n",
       "..   ...  ...              ...       ...   ...  ...               ...     ...   \n",
       "903   53    1     asymptomatic       125     0    0            normal     120   \n",
       "904   62    1     asymptomatic       166   170    0  st-t abnormality     120   \n",
       "905   56    1      non-anginal       170     0    0    lv hypertrophy     123   \n",
       "906   56    1      non-anginal       144   208    1  st-t abnormality     105   \n",
       "907   57    1     asymptomatic       142   277    1  st-t abnormality     182   \n",
       "\n",
       "     exang  oldpeak        slope               thal  num  \n",
       "0    False      2.3  downsloping       fixed defect    0  \n",
       "1    False      0.0         flat       fixed defect    0  \n",
       "2    False      0.4         flat       fixed defect    0  \n",
       "3    False      0.0         flat       fixed defect    0  \n",
       "4     True      1.5         flat       fixed defect    0  \n",
       "..     ...      ...          ...                ...  ...  \n",
       "903  False      1.5    upsloping  reversable defect    4  \n",
       "904   True      3.0         flat  reversable defect    4  \n",
       "905   True      2.5  downsloping             normal    4  \n",
       "906   TURE      NaN  downsloping       fixed defect    4  \n",
       "907  FALSE      NaN         flat  reversable defect    4  \n",
       "\n",
       "[908 rows x 13 columns]"
      ]
     },
     "execution_count": 6,
     "metadata": {},
     "output_type": "execute_result"
    }
   ],
   "source": [
    "# Encoding the sex and fbs column\n",
    "df.sex = label_encoder.fit_transform(df.sex)\n",
    "df.fbs = label_encoder.fit_transform(df.fbs)\n",
    "df"
   ]
  },
  {
   "cell_type": "code",
   "execution_count": 7,
   "id": "f8fcca52",
   "metadata": {},
   "outputs": [
    {
     "data": {
      "text/plain": [
       "([True, 'TURE'], [False, 'FALSE'])"
      ]
     },
     "execution_count": 7,
     "metadata": {},
     "output_type": "execute_result"
    }
   ],
   "source": [
    "#The exang column must essentially be bool type as it contains true and false values but it is object because the true and false are spelled incorrectly\n",
    "#Lets identify the true and false values\n",
    "exang_vals = df.exang.unique().tolist()\n",
    "true_i = [1,3]\n",
    "false_i = [0,2]\n",
    "exang_true_vals = [exang_vals[i] for i in true_i]\n",
    "exang_false_vals = [exang_vals[i] for i in false_i]\n",
    "(exang_true_vals,exang_false_vals)"
   ]
  },
  {
   "cell_type": "code",
   "execution_count": 8,
   "id": "97fbfb40",
   "metadata": {},
   "outputs": [],
   "source": [
    "#Replacing all true values with 1 and all false values with 0\n",
    "df.exang = df.exang.replace(exang_false_vals, value=0)\n",
    "df.exang = df.exang.replace(exang_true_vals, value=1)\n"
   ]
  },
  {
   "cell_type": "code",
   "execution_count": 9,
   "id": "57088564",
   "metadata": {},
   "outputs": [
    {
     "data": {
      "text/html": [
       "<div>\n",
       "<style scoped>\n",
       "    .dataframe tbody tr th:only-of-type {\n",
       "        vertical-align: middle;\n",
       "    }\n",
       "\n",
       "    .dataframe tbody tr th {\n",
       "        vertical-align: top;\n",
       "    }\n",
       "\n",
       "    .dataframe thead th {\n",
       "        text-align: right;\n",
       "    }\n",
       "</style>\n",
       "<table border=\"1\" class=\"dataframe\">\n",
       "  <thead>\n",
       "    <tr style=\"text-align: right;\">\n",
       "      <th></th>\n",
       "      <th>age</th>\n",
       "      <th>sex</th>\n",
       "      <th>cp</th>\n",
       "      <th>trestbps</th>\n",
       "      <th>chol</th>\n",
       "      <th>fbs</th>\n",
       "      <th>restecg</th>\n",
       "      <th>thalch</th>\n",
       "      <th>exang</th>\n",
       "      <th>oldpeak</th>\n",
       "      <th>slope</th>\n",
       "      <th>thal</th>\n",
       "      <th>num</th>\n",
       "    </tr>\n",
       "  </thead>\n",
       "  <tbody>\n",
       "    <tr>\n",
       "      <th>0</th>\n",
       "      <td>63</td>\n",
       "      <td>1</td>\n",
       "      <td>typical angina</td>\n",
       "      <td>145</td>\n",
       "      <td>233</td>\n",
       "      <td>1</td>\n",
       "      <td>lv hypertrophy</td>\n",
       "      <td>150</td>\n",
       "      <td>0</td>\n",
       "      <td>2.3</td>\n",
       "      <td>downsloping</td>\n",
       "      <td>fixed defect</td>\n",
       "      <td>0</td>\n",
       "    </tr>\n",
       "    <tr>\n",
       "      <th>1</th>\n",
       "      <td>41</td>\n",
       "      <td>1</td>\n",
       "      <td>atypical angina</td>\n",
       "      <td>135</td>\n",
       "      <td>203</td>\n",
       "      <td>0</td>\n",
       "      <td>normal</td>\n",
       "      <td>132</td>\n",
       "      <td>0</td>\n",
       "      <td>0.0</td>\n",
       "      <td>flat</td>\n",
       "      <td>fixed defect</td>\n",
       "      <td>0</td>\n",
       "    </tr>\n",
       "    <tr>\n",
       "      <th>2</th>\n",
       "      <td>57</td>\n",
       "      <td>1</td>\n",
       "      <td>asymptomatic</td>\n",
       "      <td>140</td>\n",
       "      <td>192</td>\n",
       "      <td>0</td>\n",
       "      <td>normal</td>\n",
       "      <td>148</td>\n",
       "      <td>0</td>\n",
       "      <td>0.4</td>\n",
       "      <td>flat</td>\n",
       "      <td>fixed defect</td>\n",
       "      <td>0</td>\n",
       "    </tr>\n",
       "    <tr>\n",
       "      <th>3</th>\n",
       "      <td>52</td>\n",
       "      <td>1</td>\n",
       "      <td>typical angina</td>\n",
       "      <td>118</td>\n",
       "      <td>186</td>\n",
       "      <td>0</td>\n",
       "      <td>lv hypertrophy</td>\n",
       "      <td>190</td>\n",
       "      <td>0</td>\n",
       "      <td>0.0</td>\n",
       "      <td>flat</td>\n",
       "      <td>fixed defect</td>\n",
       "      <td>0</td>\n",
       "    </tr>\n",
       "    <tr>\n",
       "      <th>4</th>\n",
       "      <td>57</td>\n",
       "      <td>1</td>\n",
       "      <td>asymptomatic</td>\n",
       "      <td>110</td>\n",
       "      <td>201</td>\n",
       "      <td>0</td>\n",
       "      <td>normal</td>\n",
       "      <td>126</td>\n",
       "      <td>1</td>\n",
       "      <td>1.5</td>\n",
       "      <td>flat</td>\n",
       "      <td>fixed defect</td>\n",
       "      <td>0</td>\n",
       "    </tr>\n",
       "    <tr>\n",
       "      <th>...</th>\n",
       "      <td>...</td>\n",
       "      <td>...</td>\n",
       "      <td>...</td>\n",
       "      <td>...</td>\n",
       "      <td>...</td>\n",
       "      <td>...</td>\n",
       "      <td>...</td>\n",
       "      <td>...</td>\n",
       "      <td>...</td>\n",
       "      <td>...</td>\n",
       "      <td>...</td>\n",
       "      <td>...</td>\n",
       "      <td>...</td>\n",
       "    </tr>\n",
       "    <tr>\n",
       "      <th>903</th>\n",
       "      <td>53</td>\n",
       "      <td>1</td>\n",
       "      <td>asymptomatic</td>\n",
       "      <td>125</td>\n",
       "      <td>0</td>\n",
       "      <td>0</td>\n",
       "      <td>normal</td>\n",
       "      <td>120</td>\n",
       "      <td>0</td>\n",
       "      <td>1.5</td>\n",
       "      <td>upsloping</td>\n",
       "      <td>reversable defect</td>\n",
       "      <td>4</td>\n",
       "    </tr>\n",
       "    <tr>\n",
       "      <th>904</th>\n",
       "      <td>62</td>\n",
       "      <td>1</td>\n",
       "      <td>asymptomatic</td>\n",
       "      <td>166</td>\n",
       "      <td>170</td>\n",
       "      <td>0</td>\n",
       "      <td>st-t abnormality</td>\n",
       "      <td>120</td>\n",
       "      <td>1</td>\n",
       "      <td>3.0</td>\n",
       "      <td>flat</td>\n",
       "      <td>reversable defect</td>\n",
       "      <td>4</td>\n",
       "    </tr>\n",
       "    <tr>\n",
       "      <th>905</th>\n",
       "      <td>56</td>\n",
       "      <td>1</td>\n",
       "      <td>non-anginal</td>\n",
       "      <td>170</td>\n",
       "      <td>0</td>\n",
       "      <td>0</td>\n",
       "      <td>lv hypertrophy</td>\n",
       "      <td>123</td>\n",
       "      <td>1</td>\n",
       "      <td>2.5</td>\n",
       "      <td>downsloping</td>\n",
       "      <td>normal</td>\n",
       "      <td>4</td>\n",
       "    </tr>\n",
       "    <tr>\n",
       "      <th>906</th>\n",
       "      <td>56</td>\n",
       "      <td>1</td>\n",
       "      <td>non-anginal</td>\n",
       "      <td>144</td>\n",
       "      <td>208</td>\n",
       "      <td>1</td>\n",
       "      <td>st-t abnormality</td>\n",
       "      <td>105</td>\n",
       "      <td>1</td>\n",
       "      <td>NaN</td>\n",
       "      <td>downsloping</td>\n",
       "      <td>fixed defect</td>\n",
       "      <td>4</td>\n",
       "    </tr>\n",
       "    <tr>\n",
       "      <th>907</th>\n",
       "      <td>57</td>\n",
       "      <td>1</td>\n",
       "      <td>asymptomatic</td>\n",
       "      <td>142</td>\n",
       "      <td>277</td>\n",
       "      <td>1</td>\n",
       "      <td>st-t abnormality</td>\n",
       "      <td>182</td>\n",
       "      <td>0</td>\n",
       "      <td>NaN</td>\n",
       "      <td>flat</td>\n",
       "      <td>reversable defect</td>\n",
       "      <td>4</td>\n",
       "    </tr>\n",
       "  </tbody>\n",
       "</table>\n",
       "<p>908 rows × 13 columns</p>\n",
       "</div>"
      ],
      "text/plain": [
       "     age  sex               cp  trestbps  chol  fbs           restecg  thalch  \\\n",
       "0     63    1   typical angina       145   233    1    lv hypertrophy     150   \n",
       "1     41    1  atypical angina       135   203    0            normal     132   \n",
       "2     57    1     asymptomatic       140   192    0            normal     148   \n",
       "3     52    1   typical angina       118   186    0    lv hypertrophy     190   \n",
       "4     57    1     asymptomatic       110   201    0            normal     126   \n",
       "..   ...  ...              ...       ...   ...  ...               ...     ...   \n",
       "903   53    1     asymptomatic       125     0    0            normal     120   \n",
       "904   62    1     asymptomatic       166   170    0  st-t abnormality     120   \n",
       "905   56    1      non-anginal       170     0    0    lv hypertrophy     123   \n",
       "906   56    1      non-anginal       144   208    1  st-t abnormality     105   \n",
       "907   57    1     asymptomatic       142   277    1  st-t abnormality     182   \n",
       "\n",
       "     exang  oldpeak        slope               thal  num  \n",
       "0        0      2.3  downsloping       fixed defect    0  \n",
       "1        0      0.0         flat       fixed defect    0  \n",
       "2        0      0.4         flat       fixed defect    0  \n",
       "3        0      0.0         flat       fixed defect    0  \n",
       "4        1      1.5         flat       fixed defect    0  \n",
       "..     ...      ...          ...                ...  ...  \n",
       "903      0      1.5    upsloping  reversable defect    4  \n",
       "904      1      3.0         flat  reversable defect    4  \n",
       "905      1      2.5  downsloping             normal    4  \n",
       "906      1      NaN  downsloping       fixed defect    4  \n",
       "907      0      NaN         flat  reversable defect    4  \n",
       "\n",
       "[908 rows x 13 columns]"
      ]
     },
     "execution_count": 9,
     "metadata": {},
     "output_type": "execute_result"
    }
   ],
   "source": [
    "#We can see that now exang has 0/1 in it\n",
    "df"
   ]
  },
  {
   "cell_type": "code",
   "execution_count": 10,
   "id": "89325b43",
   "metadata": {},
   "outputs": [
    {
     "data": {
      "text/plain": [
       "(['typical angina', 'atypical angina', 'asymptomatic', 'non-anginal'],\n",
       " [0, 1, 3, 2])"
      ]
     },
     "execution_count": 10,
     "metadata": {},
     "output_type": "execute_result"
    }
   ],
   "source": [
    "#Replacing the original values of the cp column with there corresponding numerical values\n",
    "cp_original_vals = df.cp.unique().tolist()\n",
    "cp_new_vals = [0,1,3,2]\n",
    "cp_original_vals, cp_new_vals"
   ]
  },
  {
   "cell_type": "code",
   "execution_count": 11,
   "id": "7184c1f0",
   "metadata": {},
   "outputs": [],
   "source": [
    "df.cp = df.cp.replace(dict( zip(cp_original_vals, cp_new_vals)))"
   ]
  },
  {
   "cell_type": "code",
   "execution_count": 12,
   "id": "c508780f",
   "metadata": {},
   "outputs": [
    {
     "data": {
      "text/plain": [
       "0      0\n",
       "1      1\n",
       "2      3\n",
       "3      0\n",
       "4      3\n",
       "      ..\n",
       "903    3\n",
       "904    3\n",
       "905    2\n",
       "906    2\n",
       "907    3\n",
       "Name: cp, Length: 908, dtype: int64"
      ]
     },
     "execution_count": 12,
     "metadata": {},
     "output_type": "execute_result"
    }
   ],
   "source": [
    "df.cp"
   ]
  },
  {
   "cell_type": "code",
   "execution_count": 13,
   "id": "10f8150c",
   "metadata": {},
   "outputs": [
    {
     "data": {
      "text/plain": [
       "0      2\n",
       "1      0\n",
       "2      0\n",
       "3      2\n",
       "4      0\n",
       "      ..\n",
       "903    0\n",
       "904    1\n",
       "905    2\n",
       "906    1\n",
       "907    1\n",
       "Name: restecg, Length: 908, dtype: int64"
      ]
     },
     "execution_count": 13,
     "metadata": {},
     "output_type": "execute_result"
    }
   ],
   "source": [
    "#Replacing the original values of the restech column with there corresponding numerical values\n",
    "\n",
    "restecg_oroginal_vals = df['restecg'].unique().tolist()\n",
    "restecg_new_vals = [2,0,1]\n",
    "df['restecg'] = df['restecg'].replace(dict(zip(restecg_oroginal_vals, restecg_new_vals)))\n",
    "df['restecg']"
   ]
  },
  {
   "cell_type": "code",
   "execution_count": 14,
   "id": "98b2c415",
   "metadata": {},
   "outputs": [
    {
     "data": {
      "text/plain": [
       "0      2\n",
       "1      1\n",
       "2      1\n",
       "3      1\n",
       "4      1\n",
       "      ..\n",
       "903    0\n",
       "904    1\n",
       "905    2\n",
       "906    2\n",
       "907    1\n",
       "Name: slope, Length: 908, dtype: int64"
      ]
     },
     "execution_count": 14,
     "metadata": {},
     "output_type": "execute_result"
    }
   ],
   "source": [
    "#Replacing the original values of the slope column with there corresponding numerical values\n",
    "\n",
    "slope_oroginal_vals = df['slope'].unique().tolist()\n",
    "slope_new_vals = [2,1,0]\n",
    "df['slope'] = df['slope'].replace(dict(zip(slope_oroginal_vals, slope_new_vals)))\n",
    "df['slope']"
   ]
  },
  {
   "cell_type": "code",
   "execution_count": 15,
   "id": "8c83921d",
   "metadata": {},
   "outputs": [
    {
     "data": {
      "text/plain": [
       "0      1\n",
       "1      1\n",
       "2      1\n",
       "3      1\n",
       "4      1\n",
       "      ..\n",
       "903    2\n",
       "904    2\n",
       "905    0\n",
       "906    1\n",
       "907    2\n",
       "Name: thal, Length: 908, dtype: int64"
      ]
     },
     "execution_count": 15,
     "metadata": {},
     "output_type": "execute_result"
    }
   ],
   "source": [
    "#Replacing the original values of the thal column with there corresponding numerical values\n",
    "\n",
    "thal_oroginal_vals = df['thal'].unique().tolist()\n",
    "thal_new_vals = [1,0,2]\n",
    "df['thal'] = df['thal'].replace(dict(zip(thal_oroginal_vals, thal_new_vals)))\n",
    "df['thal']"
   ]
  },
  {
   "cell_type": "code",
   "execution_count": 16,
   "id": "b194f566",
   "metadata": {},
   "outputs": [
    {
     "data": {
      "text/html": [
       "<div>\n",
       "<style scoped>\n",
       "    .dataframe tbody tr th:only-of-type {\n",
       "        vertical-align: middle;\n",
       "    }\n",
       "\n",
       "    .dataframe tbody tr th {\n",
       "        vertical-align: top;\n",
       "    }\n",
       "\n",
       "    .dataframe thead th {\n",
       "        text-align: right;\n",
       "    }\n",
       "</style>\n",
       "<table border=\"1\" class=\"dataframe\">\n",
       "  <thead>\n",
       "    <tr style=\"text-align: right;\">\n",
       "      <th></th>\n",
       "      <th>age</th>\n",
       "      <th>sex</th>\n",
       "      <th>cp</th>\n",
       "      <th>trestbps</th>\n",
       "      <th>chol</th>\n",
       "      <th>fbs</th>\n",
       "      <th>restecg</th>\n",
       "      <th>thalch</th>\n",
       "      <th>exang</th>\n",
       "      <th>oldpeak</th>\n",
       "      <th>slope</th>\n",
       "      <th>thal</th>\n",
       "      <th>num</th>\n",
       "    </tr>\n",
       "  </thead>\n",
       "  <tbody>\n",
       "    <tr>\n",
       "      <th>0</th>\n",
       "      <td>63</td>\n",
       "      <td>1</td>\n",
       "      <td>0</td>\n",
       "      <td>145</td>\n",
       "      <td>233</td>\n",
       "      <td>1</td>\n",
       "      <td>2</td>\n",
       "      <td>150</td>\n",
       "      <td>0</td>\n",
       "      <td>2.3</td>\n",
       "      <td>2</td>\n",
       "      <td>1</td>\n",
       "      <td>0</td>\n",
       "    </tr>\n",
       "    <tr>\n",
       "      <th>1</th>\n",
       "      <td>41</td>\n",
       "      <td>1</td>\n",
       "      <td>1</td>\n",
       "      <td>135</td>\n",
       "      <td>203</td>\n",
       "      <td>0</td>\n",
       "      <td>0</td>\n",
       "      <td>132</td>\n",
       "      <td>0</td>\n",
       "      <td>0.0</td>\n",
       "      <td>1</td>\n",
       "      <td>1</td>\n",
       "      <td>0</td>\n",
       "    </tr>\n",
       "    <tr>\n",
       "      <th>2</th>\n",
       "      <td>57</td>\n",
       "      <td>1</td>\n",
       "      <td>3</td>\n",
       "      <td>140</td>\n",
       "      <td>192</td>\n",
       "      <td>0</td>\n",
       "      <td>0</td>\n",
       "      <td>148</td>\n",
       "      <td>0</td>\n",
       "      <td>0.4</td>\n",
       "      <td>1</td>\n",
       "      <td>1</td>\n",
       "      <td>0</td>\n",
       "    </tr>\n",
       "    <tr>\n",
       "      <th>3</th>\n",
       "      <td>52</td>\n",
       "      <td>1</td>\n",
       "      <td>0</td>\n",
       "      <td>118</td>\n",
       "      <td>186</td>\n",
       "      <td>0</td>\n",
       "      <td>2</td>\n",
       "      <td>190</td>\n",
       "      <td>0</td>\n",
       "      <td>0.0</td>\n",
       "      <td>1</td>\n",
       "      <td>1</td>\n",
       "      <td>0</td>\n",
       "    </tr>\n",
       "    <tr>\n",
       "      <th>4</th>\n",
       "      <td>57</td>\n",
       "      <td>1</td>\n",
       "      <td>3</td>\n",
       "      <td>110</td>\n",
       "      <td>201</td>\n",
       "      <td>0</td>\n",
       "      <td>0</td>\n",
       "      <td>126</td>\n",
       "      <td>1</td>\n",
       "      <td>1.5</td>\n",
       "      <td>1</td>\n",
       "      <td>1</td>\n",
       "      <td>0</td>\n",
       "    </tr>\n",
       "    <tr>\n",
       "      <th>...</th>\n",
       "      <td>...</td>\n",
       "      <td>...</td>\n",
       "      <td>...</td>\n",
       "      <td>...</td>\n",
       "      <td>...</td>\n",
       "      <td>...</td>\n",
       "      <td>...</td>\n",
       "      <td>...</td>\n",
       "      <td>...</td>\n",
       "      <td>...</td>\n",
       "      <td>...</td>\n",
       "      <td>...</td>\n",
       "      <td>...</td>\n",
       "    </tr>\n",
       "    <tr>\n",
       "      <th>903</th>\n",
       "      <td>53</td>\n",
       "      <td>1</td>\n",
       "      <td>3</td>\n",
       "      <td>125</td>\n",
       "      <td>0</td>\n",
       "      <td>0</td>\n",
       "      <td>0</td>\n",
       "      <td>120</td>\n",
       "      <td>0</td>\n",
       "      <td>1.5</td>\n",
       "      <td>0</td>\n",
       "      <td>2</td>\n",
       "      <td>4</td>\n",
       "    </tr>\n",
       "    <tr>\n",
       "      <th>904</th>\n",
       "      <td>62</td>\n",
       "      <td>1</td>\n",
       "      <td>3</td>\n",
       "      <td>166</td>\n",
       "      <td>170</td>\n",
       "      <td>0</td>\n",
       "      <td>1</td>\n",
       "      <td>120</td>\n",
       "      <td>1</td>\n",
       "      <td>3.0</td>\n",
       "      <td>1</td>\n",
       "      <td>2</td>\n",
       "      <td>4</td>\n",
       "    </tr>\n",
       "    <tr>\n",
       "      <th>905</th>\n",
       "      <td>56</td>\n",
       "      <td>1</td>\n",
       "      <td>2</td>\n",
       "      <td>170</td>\n",
       "      <td>0</td>\n",
       "      <td>0</td>\n",
       "      <td>2</td>\n",
       "      <td>123</td>\n",
       "      <td>1</td>\n",
       "      <td>2.5</td>\n",
       "      <td>2</td>\n",
       "      <td>0</td>\n",
       "      <td>4</td>\n",
       "    </tr>\n",
       "    <tr>\n",
       "      <th>906</th>\n",
       "      <td>56</td>\n",
       "      <td>1</td>\n",
       "      <td>2</td>\n",
       "      <td>144</td>\n",
       "      <td>208</td>\n",
       "      <td>1</td>\n",
       "      <td>1</td>\n",
       "      <td>105</td>\n",
       "      <td>1</td>\n",
       "      <td>NaN</td>\n",
       "      <td>2</td>\n",
       "      <td>1</td>\n",
       "      <td>4</td>\n",
       "    </tr>\n",
       "    <tr>\n",
       "      <th>907</th>\n",
       "      <td>57</td>\n",
       "      <td>1</td>\n",
       "      <td>3</td>\n",
       "      <td>142</td>\n",
       "      <td>277</td>\n",
       "      <td>1</td>\n",
       "      <td>1</td>\n",
       "      <td>182</td>\n",
       "      <td>0</td>\n",
       "      <td>NaN</td>\n",
       "      <td>1</td>\n",
       "      <td>2</td>\n",
       "      <td>4</td>\n",
       "    </tr>\n",
       "  </tbody>\n",
       "</table>\n",
       "<p>908 rows × 13 columns</p>\n",
       "</div>"
      ],
      "text/plain": [
       "     age  sex  cp  trestbps  chol  fbs  restecg  thalch  exang  oldpeak  \\\n",
       "0     63    1   0       145   233    1        2     150      0      2.3   \n",
       "1     41    1   1       135   203    0        0     132      0      0.0   \n",
       "2     57    1   3       140   192    0        0     148      0      0.4   \n",
       "3     52    1   0       118   186    0        2     190      0      0.0   \n",
       "4     57    1   3       110   201    0        0     126      1      1.5   \n",
       "..   ...  ...  ..       ...   ...  ...      ...     ...    ...      ...   \n",
       "903   53    1   3       125     0    0        0     120      0      1.5   \n",
       "904   62    1   3       166   170    0        1     120      1      3.0   \n",
       "905   56    1   2       170     0    0        2     123      1      2.5   \n",
       "906   56    1   2       144   208    1        1     105      1      NaN   \n",
       "907   57    1   3       142   277    1        1     182      0      NaN   \n",
       "\n",
       "     slope  thal  num  \n",
       "0        2     1    0  \n",
       "1        1     1    0  \n",
       "2        1     1    0  \n",
       "3        1     1    0  \n",
       "4        1     1    0  \n",
       "..     ...   ...  ...  \n",
       "903      0     2    4  \n",
       "904      1     2    4  \n",
       "905      2     0    4  \n",
       "906      2     1    4  \n",
       "907      1     2    4  \n",
       "\n",
       "[908 rows x 13 columns]"
      ]
     },
     "execution_count": 16,
     "metadata": {},
     "output_type": "execute_result"
    }
   ],
   "source": [
    "# All the categorical columns have been encoded using numerical values\n",
    "df"
   ]
  },
  {
   "cell_type": "code",
   "execution_count": 17,
   "id": "a6a78250",
   "metadata": {},
   "outputs": [
    {
     "name": "stdout",
     "output_type": "stream",
     "text": [
      "<class 'pandas.core.frame.DataFrame'>\n",
      "RangeIndex: 908 entries, 0 to 907\n",
      "Data columns (total 13 columns):\n",
      " #   Column    Non-Null Count  Dtype  \n",
      "---  ------    --------------  -----  \n",
      " 0   age       908 non-null    int64  \n",
      " 1   sex       908 non-null    int32  \n",
      " 2   cp        908 non-null    int64  \n",
      " 3   trestbps  908 non-null    int64  \n",
      " 4   chol      908 non-null    int64  \n",
      " 5   fbs       908 non-null    int64  \n",
      " 6   restecg   908 non-null    int64  \n",
      " 7   thalch    908 non-null    int64  \n",
      " 8   exang     908 non-null    int64  \n",
      " 9   oldpeak   846 non-null    float64\n",
      " 10  slope     908 non-null    int64  \n",
      " 11  thal      908 non-null    int64  \n",
      " 12  num       908 non-null    int64  \n",
      "dtypes: float64(1), int32(1), int64(11)\n",
      "memory usage: 88.8 KB\n"
     ]
    }
   ],
   "source": [
    "df.info()"
   ]
  },
  {
   "cell_type": "code",
   "execution_count": 18,
   "id": "7d354379",
   "metadata": {},
   "outputs": [
    {
     "data": {
      "text/html": [
       "<div>\n",
       "<style scoped>\n",
       "    .dataframe tbody tr th:only-of-type {\n",
       "        vertical-align: middle;\n",
       "    }\n",
       "\n",
       "    .dataframe tbody tr th {\n",
       "        vertical-align: top;\n",
       "    }\n",
       "\n",
       "    .dataframe thead th {\n",
       "        text-align: right;\n",
       "    }\n",
       "</style>\n",
       "<table border=\"1\" class=\"dataframe\">\n",
       "  <thead>\n",
       "    <tr style=\"text-align: right;\">\n",
       "      <th></th>\n",
       "      <th>age</th>\n",
       "      <th>trestbps</th>\n",
       "      <th>chol</th>\n",
       "      <th>thalch</th>\n",
       "      <th>oldpeak</th>\n",
       "    </tr>\n",
       "  </thead>\n",
       "  <tbody>\n",
       "    <tr>\n",
       "      <th>count</th>\n",
       "      <td>908.000000</td>\n",
       "      <td>908.000000</td>\n",
       "      <td>908.000000</td>\n",
       "      <td>908.000000</td>\n",
       "      <td>846.000000</td>\n",
       "    </tr>\n",
       "    <tr>\n",
       "      <th>mean</th>\n",
       "      <td>53.791850</td>\n",
       "      <td>133.430617</td>\n",
       "      <td>201.484581</td>\n",
       "      <td>135.957048</td>\n",
       "      <td>0.891253</td>\n",
       "    </tr>\n",
       "    <tr>\n",
       "      <th>std</th>\n",
       "      <td>9.158031</td>\n",
       "      <td>20.401608</td>\n",
       "      <td>112.097949</td>\n",
       "      <td>26.804929</td>\n",
       "      <td>1.093875</td>\n",
       "    </tr>\n",
       "    <tr>\n",
       "      <th>min</th>\n",
       "      <td>29.000000</td>\n",
       "      <td>0.000000</td>\n",
       "      <td>0.000000</td>\n",
       "      <td>60.000000</td>\n",
       "      <td>-2.600000</td>\n",
       "    </tr>\n",
       "    <tr>\n",
       "      <th>25%</th>\n",
       "      <td>47.750000</td>\n",
       "      <td>120.000000</td>\n",
       "      <td>176.750000</td>\n",
       "      <td>118.000000</td>\n",
       "      <td>0.000000</td>\n",
       "    </tr>\n",
       "    <tr>\n",
       "      <th>50%</th>\n",
       "      <td>54.000000</td>\n",
       "      <td>130.000000</td>\n",
       "      <td>224.000000</td>\n",
       "      <td>138.000000</td>\n",
       "      <td>0.500000</td>\n",
       "    </tr>\n",
       "    <tr>\n",
       "      <th>75%</th>\n",
       "      <td>60.000000</td>\n",
       "      <td>144.000000</td>\n",
       "      <td>270.000000</td>\n",
       "      <td>156.000000</td>\n",
       "      <td>1.500000</td>\n",
       "    </tr>\n",
       "    <tr>\n",
       "      <th>max</th>\n",
       "      <td>77.000000</td>\n",
       "      <td>200.000000</td>\n",
       "      <td>603.000000</td>\n",
       "      <td>202.000000</td>\n",
       "      <td>6.200000</td>\n",
       "    </tr>\n",
       "  </tbody>\n",
       "</table>\n",
       "</div>"
      ],
      "text/plain": [
       "              age    trestbps        chol      thalch     oldpeak\n",
       "count  908.000000  908.000000  908.000000  908.000000  846.000000\n",
       "mean    53.791850  133.430617  201.484581  135.957048    0.891253\n",
       "std      9.158031   20.401608  112.097949   26.804929    1.093875\n",
       "min     29.000000    0.000000    0.000000   60.000000   -2.600000\n",
       "25%     47.750000  120.000000  176.750000  118.000000    0.000000\n",
       "50%     54.000000  130.000000  224.000000  138.000000    0.500000\n",
       "75%     60.000000  144.000000  270.000000  156.000000    1.500000\n",
       "max     77.000000  200.000000  603.000000  202.000000    6.200000"
      ]
     },
     "execution_count": 18,
     "metadata": {},
     "output_type": "execute_result"
    }
   ],
   "source": [
    "df[['age', 'trestbps', 'chol', 'thalch', 'oldpeak']].describe()"
   ]
  },
  {
   "cell_type": "code",
   "execution_count": 19,
   "id": "19804fc3",
   "metadata": {},
   "outputs": [
    {
     "data": {
      "text/plain": [
       "num\n",
       "0    399\n",
       "1    265\n",
       "2    109\n",
       "3    107\n",
       "4     28\n",
       "Name: count, dtype: int64"
      ]
     },
     "execution_count": 19,
     "metadata": {},
     "output_type": "execute_result"
    }
   ],
   "source": [
    "#The data set has sufficient values of all categoroies except for '4'\n",
    "df['num'].value_counts()"
   ]
  },
  {
   "cell_type": "markdown",
   "id": "508f413b",
   "metadata": {},
   "source": [
    "# Handling missing values of oldpeak"
   ]
  },
  {
   "cell_type": "code",
   "execution_count": 20,
   "id": "a1b3577a",
   "metadata": {},
   "outputs": [
    {
     "data": {
      "text/plain": [
       "0      0.4\n",
       "1      0.4\n",
       "2      0.4\n",
       "3      0.4\n",
       "4      0.4\n",
       "      ... \n",
       "903    2.3\n",
       "904    2.3\n",
       "905    2.3\n",
       "906    2.3\n",
       "907    2.3\n",
       "Name: oldpeak, Length: 908, dtype: object"
      ]
     },
     "execution_count": 20,
     "metadata": {},
     "output_type": "execute_result"
    }
   ],
   "source": [
    "#Getting the mean of oldpeak for each category of num into a series\n",
    "mean_oldpeak_for_each_num = df.groupby('num')['oldpeak'].transform('mean')\n",
    "mean_oldpeak_for_each_num = mean_oldpeak_for_each_num.apply(lambda a: '{:.1f}'.format(a))\n",
    "mean_oldpeak_for_each_num"
   ]
  },
  {
   "cell_type": "code",
   "execution_count": 21,
   "id": "89b76bf8",
   "metadata": {},
   "outputs": [
    {
     "data": {
      "text/plain": [
       "0      2.3\n",
       "1      0.0\n",
       "2      0.4\n",
       "3      0.0\n",
       "4      1.5\n",
       "      ... \n",
       "903    1.5\n",
       "904    3.0\n",
       "905    2.5\n",
       "906    2.3\n",
       "907    2.3\n",
       "Name: oldpeak, Length: 908, dtype: object"
      ]
     },
     "execution_count": 21,
     "metadata": {},
     "output_type": "execute_result"
    }
   ],
   "source": [
    "#Replacing the null values with the categorical mean values of the oldpeak\n",
    "df['oldpeak'] = df['oldpeak'].fillna(mean_oldpeak_for_each_num)\n",
    "df['oldpeak'] "
   ]
  },
  {
   "cell_type": "code",
   "execution_count": 22,
   "id": "65bf8362",
   "metadata": {},
   "outputs": [
    {
     "data": {
      "text/plain": [
       "0      2.3\n",
       "1      0.0\n",
       "2      0.4\n",
       "3      0.0\n",
       "4      1.5\n",
       "      ... \n",
       "903    1.5\n",
       "904    3.0\n",
       "905    2.5\n",
       "906    2.3\n",
       "907    2.3\n",
       "Name: oldpeak, Length: 908, dtype: float64"
      ]
     },
     "execution_count": 22,
     "metadata": {},
     "output_type": "execute_result"
    }
   ],
   "source": [
    "#After filling into the missing spots the datatype of the oldpeak column had changed to object. \n",
    "#Make it float once again\n",
    "df['oldpeak'] = df['oldpeak'].astype('float')\n",
    "df['oldpeak']"
   ]
  },
  {
   "cell_type": "code",
   "execution_count": 31,
   "id": "e56172a7",
   "metadata": {},
   "outputs": [],
   "source": [
    "#Storing numerical columns in separately\n",
    "df_numerical = df[['age', 'trestbps', 'chol', 'thalch', 'oldpeak']]"
   ]
  },
  {
   "cell_type": "code",
   "execution_count": 62,
   "id": "af7ea234",
   "metadata": {},
   "outputs": [
    {
     "data": {
      "text/html": [
       "<div>\n",
       "<style scoped>\n",
       "    .dataframe tbody tr th:only-of-type {\n",
       "        vertical-align: middle;\n",
       "    }\n",
       "\n",
       "    .dataframe tbody tr th {\n",
       "        vertical-align: top;\n",
       "    }\n",
       "\n",
       "    .dataframe thead th {\n",
       "        text-align: right;\n",
       "    }\n",
       "</style>\n",
       "<table border=\"1\" class=\"dataframe\">\n",
       "  <thead>\n",
       "    <tr style=\"text-align: right;\">\n",
       "      <th></th>\n",
       "      <th>age</th>\n",
       "      <th>trestbps</th>\n",
       "      <th>chol</th>\n",
       "      <th>thalch</th>\n",
       "      <th>oldpeak</th>\n",
       "    </tr>\n",
       "  </thead>\n",
       "  <tbody>\n",
       "    <tr>\n",
       "      <th>count</th>\n",
       "      <td>908.000000</td>\n",
       "      <td>908.000000</td>\n",
       "      <td>908.000000</td>\n",
       "      <td>908.000000</td>\n",
       "      <td>908.000000</td>\n",
       "    </tr>\n",
       "    <tr>\n",
       "      <th>mean</th>\n",
       "      <td>53.791850</td>\n",
       "      <td>133.430617</td>\n",
       "      <td>201.484581</td>\n",
       "      <td>135.957048</td>\n",
       "      <td>0.901762</td>\n",
       "    </tr>\n",
       "    <tr>\n",
       "      <th>std</th>\n",
       "      <td>9.158031</td>\n",
       "      <td>20.401608</td>\n",
       "      <td>112.097949</td>\n",
       "      <td>26.804929</td>\n",
       "      <td>1.065815</td>\n",
       "    </tr>\n",
       "    <tr>\n",
       "      <th>min</th>\n",
       "      <td>29.000000</td>\n",
       "      <td>0.000000</td>\n",
       "      <td>0.000000</td>\n",
       "      <td>60.000000</td>\n",
       "      <td>-2.600000</td>\n",
       "    </tr>\n",
       "    <tr>\n",
       "      <th>25%</th>\n",
       "      <td>47.750000</td>\n",
       "      <td>120.000000</td>\n",
       "      <td>176.750000</td>\n",
       "      <td>118.000000</td>\n",
       "      <td>0.000000</td>\n",
       "    </tr>\n",
       "    <tr>\n",
       "      <th>50%</th>\n",
       "      <td>54.000000</td>\n",
       "      <td>130.000000</td>\n",
       "      <td>224.000000</td>\n",
       "      <td>138.000000</td>\n",
       "      <td>0.600000</td>\n",
       "    </tr>\n",
       "    <tr>\n",
       "      <th>75%</th>\n",
       "      <td>60.000000</td>\n",
       "      <td>144.000000</td>\n",
       "      <td>270.000000</td>\n",
       "      <td>156.000000</td>\n",
       "      <td>1.525000</td>\n",
       "    </tr>\n",
       "    <tr>\n",
       "      <th>max</th>\n",
       "      <td>77.000000</td>\n",
       "      <td>200.000000</td>\n",
       "      <td>603.000000</td>\n",
       "      <td>202.000000</td>\n",
       "      <td>6.200000</td>\n",
       "    </tr>\n",
       "  </tbody>\n",
       "</table>\n",
       "</div>"
      ],
      "text/plain": [
       "              age    trestbps        chol      thalch     oldpeak\n",
       "count  908.000000  908.000000  908.000000  908.000000  908.000000\n",
       "mean    53.791850  133.430617  201.484581  135.957048    0.901762\n",
       "std      9.158031   20.401608  112.097949   26.804929    1.065815\n",
       "min     29.000000    0.000000    0.000000   60.000000   -2.600000\n",
       "25%     47.750000  120.000000  176.750000  118.000000    0.000000\n",
       "50%     54.000000  130.000000  224.000000  138.000000    0.600000\n",
       "75%     60.000000  144.000000  270.000000  156.000000    1.525000\n",
       "max     77.000000  200.000000  603.000000  202.000000    6.200000"
      ]
     },
     "execution_count": 62,
     "metadata": {},
     "output_type": "execute_result"
    }
   ],
   "source": [
    "df_numerical.describe()"
   ]
  },
  {
   "cell_type": "markdown",
   "id": "8966ca17",
   "metadata": {},
   "source": [
    "# The minimum for 'trestbps' & 'chol' values is 0\n",
    "# Blood Pressure can in very rare cases be 0\n",
    "# Cholestrol cannot be 0\n",
    "# Lets check the box plots for these two columns"
   ]
  },
  {
   "cell_type": "code",
   "execution_count": 70,
   "id": "9f52d40b",
   "metadata": {
    "scrolled": false
   },
   "outputs": [
    {
     "data": {
      "application/javascript": [
       "\n",
       "        if (window._pyforest_update_imports_cell) { window._pyforest_update_imports_cell('import pandas as pd\\nimport seaborn as sns\\nimport matplotlib.pyplot as plt'); }\n",
       "    "
      ],
      "text/plain": [
       "<IPython.core.display.Javascript object>"
      ]
     },
     "metadata": {},
     "output_type": "display_data"
    },
    {
     "data": {
      "text/plain": [
       "array([ 80,   0, 190, 181, 188, 193, 196, 192, 185, 200, 184, 192, 186,\n",
       "       200, 200, 200, 188, 182, 196, 193, 186, 190], dtype=int64)"
      ]
     },
     "execution_count": 70,
     "metadata": {},
     "output_type": "execute_result"
    },
    {
     "data": {
      "image/png": "[encoded data removed]",
      "text/plain": [
       "<Figure size 640x480 with 1 Axes>"
      ]
     },
     "metadata": {},
     "output_type": "display_data"
    }
   ],
   "source": [
    "trestbps_box = plt.boxplot(df_numerical['trestbps'])\n",
    "trestbps_box['fliers'][0].get_ydata()"
   ]
  },
  {
   "cell_type": "markdown",
   "id": "79ce7a06",
   "metadata": {},
   "source": [
    "# There is nothing extraordinary in the resting bp values. All these values are normally seen in adults. \n",
    "# Even the '0' value is possible in certain special conditions."
   ]
  },
  {
   "cell_type": "code",
   "execution_count": 72,
   "id": "ee927146",
   "metadata": {},
   "outputs": [
    {
     "data": {
      "application/javascript": [
       "\n",
       "        if (window._pyforest_update_imports_cell) { window._pyforest_update_imports_cell('import pandas as pd\\nimport seaborn as sns\\nimport matplotlib.pyplot as plt'); }\n",
       "    "
      ],
      "text/plain": [
       "<IPython.core.display.Javascript object>"
      ]
     },
     "metadata": {},
     "output_type": "display_data"
    },
    {
     "data": {
      "text/plain": [
       "array([  0,   0,   0,   0,   0,   0,   0,   0,   0,   0,   0,   0,   0,\n",
       "         0,   0,   0,   0,   0,   0,   0,   0,   0,   0,   0,   0,   0,\n",
       "         0,   0,   0,   0,   0,   0,   0,   0,   0,   0,   0,   0,   0,\n",
       "         0,   0,   0,   0,   0,   0,   0,   0,   0,   0,   0,   0,   0,\n",
       "         0,   0,   0,   0,   0,   0,   0,   0,   0,   0,   0,   0,   0,\n",
       "         0,   0,   0,   0,   0,   0,   0,   0,   0,   0,   0,   0,   0,\n",
       "         0,   0,   0,   0,   0,   0,   0,   0,   0,   0,   0,   0,   0,\n",
       "         0,   0,   0,   0,   0,   0,   0,   0,   0,   0,   0,   0,   0,\n",
       "         0,   0,   0,   0,   0,   0,   0,   0,   0,   0,   0,   0,   0,\n",
       "         0,   0,   0,   0,   0,   0,   0,   0,   0,   0,   0,   0,   0,\n",
       "         0,   0,   0,   0,   0,   0,   0,   0,   0,   0,   0,   0,   0,\n",
       "         0,   0,   0,   0,   0,   0,   0,   0,   0,   0,   0,   0,   0,\n",
       "         0,   0,   0,   0,   0,   0,   0,   0,   0,   0,   0,   0,   0,\n",
       "         0,   0,   0, 417, 439, 564, 458, 481, 459, 432, 468, 412, 421,\n",
       "       466, 603, 518, 529, 491], dtype=int64)"
      ]
     },
     "execution_count": 72,
     "metadata": {},
     "output_type": "execute_result"
    },
    {
     "data": {
      "image/png": "[encoded data removed]",
      "text/plain": [
       "<Figure size 640x480 with 1 Axes>"
      ]
     },
     "metadata": {},
     "output_type": "display_data"
    }
   ],
   "source": [
    "#Lets check the boxplot of the 'chol' column as it also had min value as '0'\n",
    "chol_box = plt.boxplot(df_numerical['chol'])\n",
    "chol_box['fliers'][0].get_ydata()"
   ]
  },
  {
   "cell_type": "markdown",
   "id": "cb554392",
   "metadata": {},
   "source": [
    "# After researching about the cholestrol levels in humans, I learned that cholestrol cannot be 0 mg/dl.\n",
    "# So all these '0' values in the chol are there due to some error and we need to change these values\n",
    "# Cholestrol values that are very high are possible in critical cases"
   ]
  },
  {
   "cell_type": "code",
   "execution_count": 88,
   "id": "28540556",
   "metadata": {},
   "outputs": [
    {
     "data": {
      "application/javascript": [
       "\n",
       "        if (window._pyforest_update_imports_cell) { window._pyforest_update_imports_cell('import pandas as pd\\nimport seaborn as sns\\nimport numpy as np\\nimport matplotlib.pyplot as plt'); }\n",
       "    "
      ],
      "text/plain": [
       "<IPython.core.display.Javascript object>"
      ]
     },
     "metadata": {},
     "output_type": "display_data"
    },
    {
     "data": {
      "text/plain": [
       "0      233.0\n",
       "1      203.0\n",
       "2      192.0\n",
       "3      186.0\n",
       "4      201.0\n",
       "       ...  \n",
       "903      NaN\n",
       "904    170.0\n",
       "905      NaN\n",
       "906    208.0\n",
       "907    277.0\n",
       "Name: chol, Length: 908, dtype: float64"
      ]
     },
     "execution_count": 88,
     "metadata": {},
     "output_type": "execute_result"
    }
   ],
   "source": [
    "#The '0's are like missing values for us. Lets replace them with Nan for convenience in replacing them using fillna()\n",
    "df['chol'] = df['chol'].replace(0, np.nan)\n",
    "df['chol']"
   ]
  },
  {
   "cell_type": "code",
   "execution_count": 91,
   "id": "4c7ad7d0",
   "metadata": {},
   "outputs": [
    {
     "data": {
      "text/plain": [
       "0      244\n",
       "1      244\n",
       "2      244\n",
       "3      244\n",
       "4      244\n",
       "      ... \n",
       "903    240\n",
       "904    240\n",
       "905    240\n",
       "906    240\n",
       "907    240\n",
       "Name: chol, Length: 908, dtype: int32"
      ]
     },
     "execution_count": 91,
     "metadata": {},
     "output_type": "execute_result"
    }
   ],
   "source": [
    "#Getting the mean chol for each categories\n",
    "mean_chol_in_num_categories = df.groupby('num')['chol'].transform('mean')\n",
    "mean_chol_in_num_categories = mean_chol_in_num_categories.astype('int')\n",
    "mean_chol_in_num_categories"
   ]
  },
  {
   "cell_type": "code",
   "execution_count": 92,
   "id": "61278504",
   "metadata": {},
   "outputs": [
    {
     "data": {
      "text/plain": [
       "0      233.0\n",
       "1      203.0\n",
       "2      192.0\n",
       "3      186.0\n",
       "4      201.0\n",
       "       ...  \n",
       "903    240.0\n",
       "904    170.0\n",
       "905    240.0\n",
       "906    208.0\n",
       "907    277.0\n",
       "Name: chol, Length: 908, dtype: float64"
      ]
     },
     "execution_count": 92,
     "metadata": {},
     "output_type": "execute_result"
    }
   ],
   "source": [
    "#Finally replacing the nan values with the mean values for their corresponding categories\n",
    "df['chol'] = df['chol'].fillna(mean_chol_in_num_categories)\n",
    "df['chol']"
   ]
  },
  {
   "cell_type": "code",
   "execution_count": 93,
   "id": "8fb88c20",
   "metadata": {},
   "outputs": [],
   "source": [
    "#Updating the 'df_numerical' as well\n",
    "df_numerical = df[['age', 'trestbps', 'chol', 'thalch', 'oldpeak']]"
   ]
  },
  {
   "cell_type": "code",
   "execution_count": 94,
   "id": "af7c7a49",
   "metadata": {},
   "outputs": [
    {
     "data": {
      "text/html": [
       "<div>\n",
       "<style scoped>\n",
       "    .dataframe tbody tr th:only-of-type {\n",
       "        vertical-align: middle;\n",
       "    }\n",
       "\n",
       "    .dataframe tbody tr th {\n",
       "        vertical-align: top;\n",
       "    }\n",
       "\n",
       "    .dataframe thead th {\n",
       "        text-align: right;\n",
       "    }\n",
       "</style>\n",
       "<table border=\"1\" class=\"dataframe\">\n",
       "  <thead>\n",
       "    <tr style=\"text-align: right;\">\n",
       "      <th></th>\n",
       "      <th>age</th>\n",
       "      <th>trestbps</th>\n",
       "      <th>chol</th>\n",
       "      <th>thalch</th>\n",
       "      <th>oldpeak</th>\n",
       "    </tr>\n",
       "  </thead>\n",
       "  <tbody>\n",
       "    <tr>\n",
       "      <th>count</th>\n",
       "      <td>908.000000</td>\n",
       "      <td>908.000000</td>\n",
       "      <td>908.000000</td>\n",
       "      <td>908.000000</td>\n",
       "      <td>908.000000</td>\n",
       "    </tr>\n",
       "    <tr>\n",
       "      <th>mean</th>\n",
       "      <td>53.791850</td>\n",
       "      <td>133.430617</td>\n",
       "      <td>249.103524</td>\n",
       "      <td>135.957048</td>\n",
       "      <td>0.901762</td>\n",
       "    </tr>\n",
       "    <tr>\n",
       "      <th>std</th>\n",
       "      <td>9.158031</td>\n",
       "      <td>20.401608</td>\n",
       "      <td>55.436389</td>\n",
       "      <td>26.804929</td>\n",
       "      <td>1.065815</td>\n",
       "    </tr>\n",
       "    <tr>\n",
       "      <th>min</th>\n",
       "      <td>29.000000</td>\n",
       "      <td>0.000000</td>\n",
       "      <td>85.000000</td>\n",
       "      <td>60.000000</td>\n",
       "      <td>-2.600000</td>\n",
       "    </tr>\n",
       "    <tr>\n",
       "      <th>25%</th>\n",
       "      <td>47.750000</td>\n",
       "      <td>120.000000</td>\n",
       "      <td>216.000000</td>\n",
       "      <td>118.000000</td>\n",
       "      <td>0.000000</td>\n",
       "    </tr>\n",
       "    <tr>\n",
       "      <th>50%</th>\n",
       "      <td>54.000000</td>\n",
       "      <td>130.000000</td>\n",
       "      <td>250.000000</td>\n",
       "      <td>138.000000</td>\n",
       "      <td>0.600000</td>\n",
       "    </tr>\n",
       "    <tr>\n",
       "      <th>75%</th>\n",
       "      <td>60.000000</td>\n",
       "      <td>144.000000</td>\n",
       "      <td>270.000000</td>\n",
       "      <td>156.000000</td>\n",
       "      <td>1.525000</td>\n",
       "    </tr>\n",
       "    <tr>\n",
       "      <th>max</th>\n",
       "      <td>77.000000</td>\n",
       "      <td>200.000000</td>\n",
       "      <td>603.000000</td>\n",
       "      <td>202.000000</td>\n",
       "      <td>6.200000</td>\n",
       "    </tr>\n",
       "  </tbody>\n",
       "</table>\n",
       "</div>"
      ],
      "text/plain": [
       "              age    trestbps        chol      thalch     oldpeak\n",
       "count  908.000000  908.000000  908.000000  908.000000  908.000000\n",
       "mean    53.791850  133.430617  249.103524  135.957048    0.901762\n",
       "std      9.158031   20.401608   55.436389   26.804929    1.065815\n",
       "min     29.000000    0.000000   85.000000   60.000000   -2.600000\n",
       "25%     47.750000  120.000000  216.000000  118.000000    0.000000\n",
       "50%     54.000000  130.000000  250.000000  138.000000    0.600000\n",
       "75%     60.000000  144.000000  270.000000  156.000000    1.525000\n",
       "max     77.000000  200.000000  603.000000  202.000000    6.200000"
      ]
     },
     "execution_count": 94,
     "metadata": {},
     "output_type": "execute_result"
    }
   ],
   "source": [
    "df_numerical.describe()"
   ]
  },
  {
   "cell_type": "markdown",
   "id": "8d93ca4c",
   "metadata": {},
   "source": [
    "# Lets check the boxplot of other numerical columns as well (age, thalch & oldpeak)"
   ]
  },
  {
   "cell_type": "code",
   "execution_count": 101,
   "id": "13f58bce",
   "metadata": {},
   "outputs": [
    {
     "data": {
      "application/javascript": [
       "\n",
       "        if (window._pyforest_update_imports_cell) { window._pyforest_update_imports_cell('import pandas as pd\\nimport seaborn as sns\\nimport numpy as np\\nimport matplotlib.pyplot as plt'); }\n",
       "    "
      ],
      "text/plain": [
       "<IPython.core.display.Javascript object>"
      ]
     },
     "metadata": {},
     "output_type": "display_data"
    },
    {
     "data": {
      "image/png": "[encoded data removed]",
      "text/plain": [
       "<Figure size 640x480 with 1 Axes>"
      ]
     },
     "metadata": {},
     "output_type": "display_data"
    }
   ],
   "source": [
    "#Box plot of age\n",
    "plt.boxplot(df['age']);"
   ]
  },
  {
   "cell_type": "code",
   "execution_count": 102,
   "id": "27182ff9",
   "metadata": {},
   "outputs": [
    {
     "data": {
      "application/javascript": [
       "\n",
       "        if (window._pyforest_update_imports_cell) { window._pyforest_update_imports_cell('import pandas as pd\\nimport seaborn as sns\\nimport numpy as np\\nimport matplotlib.pyplot as plt'); }\n",
       "    "
      ],
      "text/plain": [
       "<IPython.core.display.Javascript object>"
      ]
     },
     "metadata": {},
     "output_type": "display_data"
    },
    {
     "data": {
      "image/png": "[encoded data removed]",
      "text/plain": [
       "<Figure size 640x480 with 1 Axes>"
      ]
     },
     "metadata": {},
     "output_type": "display_data"
    }
   ],
   "source": [
    "#Box plot of thalch\n",
    "plt.boxplot(df['thalch']);"
   ]
  },
  {
   "cell_type": "code",
   "execution_count": 103,
   "id": "aa683544",
   "metadata": {},
   "outputs": [
    {
     "data": {
      "application/javascript": [
       "\n",
       "        if (window._pyforest_update_imports_cell) { window._pyforest_update_imports_cell('import pandas as pd\\nimport seaborn as sns\\nimport numpy as np\\nimport matplotlib.pyplot as plt'); }\n",
       "    "
      ],
      "text/plain": [
       "<IPython.core.display.Javascript object>"
      ]
     },
     "metadata": {},
     "output_type": "display_data"
    },
    {
     "data": {
      "image/png": "[encoded data removed]",
      "text/plain": [
       "<Figure size 640x480 with 1 Axes>"
      ]
     },
     "metadata": {},
     "output_type": "display_data"
    }
   ],
   "source": [
    "#Box plot of oldpeak\n",
    "plt.boxplot(df['oldpeak']);"
   ]
  },
  {
   "cell_type": "markdown",
   "id": "743487a4",
   "metadata": {},
   "source": [
    "# There is nothing extraordinary about these columns"
   ]
  },
  {
   "cell_type": "markdown",
   "id": "cc3dcac9",
   "metadata": {},
   "source": [
    "# Lets see the correlations"
   ]
  },
  {
   "cell_type": "code",
   "execution_count": 112,
   "id": "e84d4593",
   "metadata": {},
   "outputs": [
    {
     "data": {
      "text/plain": [
       "age         0.326493\n",
       "sex         0.259605\n",
       "cp          0.391356\n",
       "trestbps    0.137251\n",
       "chol        0.031579\n",
       "fbs         0.156268\n",
       "restecg     0.137494\n",
       "thalch     -0.323058\n",
       "exang       0.359549\n",
       "oldpeak     0.453744\n",
       "slope       0.148117\n",
       "thal        0.226924\n",
       "num         1.000000\n",
       "Name: num, dtype: float64"
      ]
     },
     "execution_count": 112,
     "metadata": {},
     "output_type": "execute_result"
    }
   ],
   "source": [
    "#Correlation of num column with all other columns\n",
    "df.corr()['num']\n",
    "#num do not have a very good correlation with any of the other columns"
   ]
  },
  {
   "cell_type": "code",
   "execution_count": 114,
   "id": "90d081c0",
   "metadata": {},
   "outputs": [],
   "source": [
    "#Taking the categorical columns out in a separate variable\n",
    "df_categorical = df[['sex', 'cp', 'fbs', 'restecg', 'exang', 'slope', 'thal', 'num']]"
   ]
  },
  {
   "cell_type": "markdown",
   "id": "8867cb0b",
   "metadata": {},
   "source": [
    "# There are very few females in our dataset\n"
   ]
  },
  {
   "cell_type": "code",
   "execution_count": 134,
   "id": "bbc0d552",
   "metadata": {},
   "outputs": [
    {
     "name": "stdout",
     "output_type": "stream",
     "text": [
      "sex\n",
      "1    718\n",
      "0    190\n",
      "Name: count, dtype: int64\n"
     ]
    },
    {
     "data": {
      "application/javascript": [
       "\n",
       "        if (window._pyforest_update_imports_cell) { window._pyforest_update_imports_cell('import pandas as pd\\nimport seaborn as sns\\nimport numpy as np\\nimport matplotlib.pyplot as plt'); }\n",
       "    "
      ],
      "text/plain": [
       "<IPython.core.display.Javascript object>"
      ]
     },
     "metadata": {},
     "output_type": "display_data"
    },
    {
     "data": {
      "image/png": "[encoded data removed]",
      "text/plain": [
       "<Figure size 640x480 with 1 Axes>"
      ]
     },
     "metadata": {},
     "output_type": "display_data"
    }
   ],
   "source": [
    "print(df_categorical['sex'].value_counts())\n",
    "sns.countplot(x=df_categorical['sex']);\n"
   ]
  },
  {
   "cell_type": "code",
   "execution_count": 122,
   "id": "b4a6d430",
   "metadata": {},
   "outputs": [
    {
     "data": {
      "text/plain": [
       "10     0\n",
       "11     0\n",
       "16     0\n",
       "17     0\n",
       "18     0\n",
       "      ..\n",
       "802    3\n",
       "819    3\n",
       "824    3\n",
       "886    4\n",
       "889    4\n",
       "Name: num, Length: 190, dtype: int64"
      ]
     },
     "execution_count": 122,
     "metadata": {},
     "output_type": "execute_result"
    }
   ],
   "source": [
    "#Getting the heart conditions of females\n",
    "females_heart_disease_stage = df[df['sex']==0]['num']\n",
    "females_heart_disease_stage"
   ]
  },
  {
   "cell_type": "code",
   "execution_count": 129,
   "id": "b3de1b53",
   "metadata": {},
   "outputs": [
    {
     "data": {
      "text/plain": [
       "0      0\n",
       "1      0\n",
       "2      0\n",
       "3      0\n",
       "4      0\n",
       "      ..\n",
       "903    4\n",
       "904    4\n",
       "905    4\n",
       "906    4\n",
       "907    4\n",
       "Name: num, Length: 718, dtype: int64"
      ]
     },
     "execution_count": 129,
     "metadata": {},
     "output_type": "execute_result"
    }
   ],
   "source": [
    "#Getting the heart conditions of males\n",
    "males_heart_disease_stage = df[df['sex']==1]['num']\n",
    "males_heart_disease_stage"
   ]
  },
  {
   "cell_type": "markdown",
   "id": "17a5efbc",
   "metadata": {},
   "source": [
    "# Number of Females in each stage of Heart Conditions\n"
   ]
  },
  {
   "cell_type": "code",
   "execution_count": 131,
   "id": "ab577e6d",
   "metadata": {},
   "outputs": [
    {
     "data": {
      "application/javascript": [
       "\n",
       "        if (window._pyforest_update_imports_cell) { window._pyforest_update_imports_cell('import pandas as pd\\nimport seaborn as sns\\nimport numpy as np\\nimport matplotlib.pyplot as plt'); }\n",
       "    "
      ],
      "text/plain": [
       "<IPython.core.display.Javascript object>"
      ]
     },
     "metadata": {},
     "output_type": "display_data"
    },
    {
     "name": "stdout",
     "output_type": "stream",
     "text": [
      "num\n",
      "0    140\n",
      "1     30\n",
      "2     10\n",
      "3      8\n",
      "4      2\n",
      "Name: count, dtype: int64\n"
     ]
    },
    {
     "data": {
      "image/png": "[encoded data removed]",
      "text/plain": [
       "<Figure size 640x480 with 1 Axes>"
      ]
     },
     "metadata": {},
     "output_type": "display_data"
    }
   ],
   "source": [
    "sns.countplot(x=females_heart_disease_stage);\n",
    "print(females_heart_disease_stage.value_counts())"
   ]
  },
  {
   "cell_type": "markdown",
   "id": "d55b6cd1",
   "metadata": {},
   "source": [
    "# Number of males in each stage of Heart Conditions\n"
   ]
  },
  {
   "cell_type": "code",
   "execution_count": 132,
   "id": "6aea9f8b",
   "metadata": {},
   "outputs": [
    {
     "data": {
      "application/javascript": [
       "\n",
       "        if (window._pyforest_update_imports_cell) { window._pyforest_update_imports_cell('import pandas as pd\\nimport seaborn as sns\\nimport numpy as np\\nimport matplotlib.pyplot as plt'); }\n",
       "    "
      ],
      "text/plain": [
       "<IPython.core.display.Javascript object>"
      ]
     },
     "metadata": {},
     "output_type": "display_data"
    },
    {
     "name": "stdout",
     "output_type": "stream",
     "text": [
      "num\n",
      "0    259\n",
      "1    235\n",
      "2     99\n",
      "3     99\n",
      "4     26\n",
      "Name: count, dtype: int64\n"
     ]
    },
    {
     "data": {
      "image/png": "[encoded data removed]",
      "text/plain": [
       "<Figure size 640x480 with 1 Axes>"
      ]
     },
     "metadata": {},
     "output_type": "display_data"
    }
   ],
   "source": [
    "sns.countplot(x=males_heart_disease_stage);\n",
    "print(males_heart_disease_stage.value_counts())"
   ]
  },
  {
   "cell_type": "markdown",
   "id": "8a1eada5",
   "metadata": {},
   "source": [
    "# Males are 3.5 times the Females in our dataset\n",
    "# Yet the more proportion of males have heart conditions than females\n",
    "# Number of Males with no heart conditions = 259 \n",
    "# Number of males with stage 1 to stage 4 = 359 (58%)\n",
    "# Number of Females with no heart conditions = 140\n",
    "# Number of Females with stage 1 to stage 4 = 50 (35%)\n"
   ]
  },
  {
   "cell_type": "code",
   "execution_count": 99,
   "id": "5a588f9b",
   "metadata": {},
   "outputs": [
    {
     "data": {
      "image/png": "[encoded data removed]",
      "text/plain": [
       "<Figure size 1500x1800 with 6 Axes>"
      ]
     },
     "metadata": {},
     "output_type": "display_data"
    }
   ],
   "source": [
    "#Histogram of numerical columns\n",
    "df_numerical.hist(figsize=(15,18), grid=False);"
   ]
  },
  {
   "cell_type": "markdown",
   "id": "277dff63",
   "metadata": {},
   "source": [
    "# Distribution type of numerical features do not give any substantial insight in this case"
   ]
  },
  {
   "cell_type": "code",
   "execution_count": 280,
   "id": "f1b90d2d",
   "metadata": {},
   "outputs": [],
   "source": [
    "#Imports\n",
    "from sklearn.model_selection import train_test_split, cross_val_score, KFold\n",
    "from sklearn.tree import DecisionTreeClassifier\n",
    "from sklearn import tree\n",
    "from sklearn.model_selection import GridSearchCV\n",
    "from sklearn.model_selection import RandomizedSearchCV\n"
   ]
  },
  {
   "cell_type": "code",
   "execution_count": 324,
   "id": "ec4b8b88",
   "metadata": {},
   "outputs": [],
   "source": [
    "from sklearn.metrics import confusion_matrix, accuracy_score, precision_score, recall_score, f1_score, roc_auc_score\n"
   ]
  },
  {
   "cell_type": "code",
   "execution_count": 484,
   "id": "e8d4ae0f",
   "metadata": {},
   "outputs": [
    {
     "data": {
      "text/html": [
       "<div>\n",
       "<style scoped>\n",
       "    .dataframe tbody tr th:only-of-type {\n",
       "        vertical-align: middle;\n",
       "    }\n",
       "\n",
       "    .dataframe tbody tr th {\n",
       "        vertical-align: top;\n",
       "    }\n",
       "\n",
       "    .dataframe thead th {\n",
       "        text-align: right;\n",
       "    }\n",
       "</style>\n",
       "<table border=\"1\" class=\"dataframe\">\n",
       "  <thead>\n",
       "    <tr style=\"text-align: right;\">\n",
       "      <th></th>\n",
       "      <th>age</th>\n",
       "      <th>sex</th>\n",
       "      <th>cp</th>\n",
       "      <th>trestbps</th>\n",
       "      <th>chol</th>\n",
       "      <th>fbs</th>\n",
       "      <th>restecg</th>\n",
       "      <th>thalch</th>\n",
       "      <th>exang</th>\n",
       "      <th>oldpeak</th>\n",
       "      <th>slope</th>\n",
       "      <th>thal</th>\n",
       "    </tr>\n",
       "  </thead>\n",
       "  <tbody>\n",
       "    <tr>\n",
       "      <th>0</th>\n",
       "      <td>63</td>\n",
       "      <td>1</td>\n",
       "      <td>0</td>\n",
       "      <td>145</td>\n",
       "      <td>233.0</td>\n",
       "      <td>1</td>\n",
       "      <td>2</td>\n",
       "      <td>150</td>\n",
       "      <td>0</td>\n",
       "      <td>2.3</td>\n",
       "      <td>2</td>\n",
       "      <td>1</td>\n",
       "    </tr>\n",
       "    <tr>\n",
       "      <th>1</th>\n",
       "      <td>41</td>\n",
       "      <td>1</td>\n",
       "      <td>1</td>\n",
       "      <td>135</td>\n",
       "      <td>203.0</td>\n",
       "      <td>0</td>\n",
       "      <td>0</td>\n",
       "      <td>132</td>\n",
       "      <td>0</td>\n",
       "      <td>0.0</td>\n",
       "      <td>1</td>\n",
       "      <td>1</td>\n",
       "    </tr>\n",
       "    <tr>\n",
       "      <th>2</th>\n",
       "      <td>57</td>\n",
       "      <td>1</td>\n",
       "      <td>3</td>\n",
       "      <td>140</td>\n",
       "      <td>192.0</td>\n",
       "      <td>0</td>\n",
       "      <td>0</td>\n",
       "      <td>148</td>\n",
       "      <td>0</td>\n",
       "      <td>0.4</td>\n",
       "      <td>1</td>\n",
       "      <td>1</td>\n",
       "    </tr>\n",
       "    <tr>\n",
       "      <th>3</th>\n",
       "      <td>52</td>\n",
       "      <td>1</td>\n",
       "      <td>0</td>\n",
       "      <td>118</td>\n",
       "      <td>186.0</td>\n",
       "      <td>0</td>\n",
       "      <td>2</td>\n",
       "      <td>190</td>\n",
       "      <td>0</td>\n",
       "      <td>0.0</td>\n",
       "      <td>1</td>\n",
       "      <td>1</td>\n",
       "    </tr>\n",
       "    <tr>\n",
       "      <th>4</th>\n",
       "      <td>57</td>\n",
       "      <td>1</td>\n",
       "      <td>3</td>\n",
       "      <td>110</td>\n",
       "      <td>201.0</td>\n",
       "      <td>0</td>\n",
       "      <td>0</td>\n",
       "      <td>126</td>\n",
       "      <td>1</td>\n",
       "      <td>1.5</td>\n",
       "      <td>1</td>\n",
       "      <td>1</td>\n",
       "    </tr>\n",
       "  </tbody>\n",
       "</table>\n",
       "</div>"
      ],
      "text/plain": [
       "   age  sex  cp  trestbps   chol  fbs  restecg  thalch  exang  oldpeak  slope  \\\n",
       "0   63    1   0       145  233.0    1        2     150      0      2.3      2   \n",
       "1   41    1   1       135  203.0    0        0     132      0      0.0      1   \n",
       "2   57    1   3       140  192.0    0        0     148      0      0.4      1   \n",
       "3   52    1   0       118  186.0    0        2     190      0      0.0      1   \n",
       "4   57    1   3       110  201.0    0        0     126      1      1.5      1   \n",
       "\n",
       "   thal  \n",
       "0     1  \n",
       "1     1  \n",
       "2     1  \n",
       "3     1  \n",
       "4     1  "
      ]
     },
     "execution_count": 484,
     "metadata": {},
     "output_type": "execute_result"
    }
   ],
   "source": [
    "#Storing the features into X and the target column into y\n",
    "X, y = df.iloc[:,:-1], df['num']\n",
    "X.head()"
   ]
  },
  {
   "cell_type": "code",
   "execution_count": 485,
   "id": "beaaea87",
   "metadata": {},
   "outputs": [
    {
     "data": {
      "text/plain": [
       "0    0\n",
       "1    0\n",
       "2    0\n",
       "3    0\n",
       "4    0\n",
       "Name: num, dtype: int64"
      ]
     },
     "execution_count": 485,
     "metadata": {},
     "output_type": "execute_result"
    }
   ],
   "source": [
    "y.head()"
   ]
  },
  {
   "cell_type": "code",
   "execution_count": 486,
   "id": "ddff86c9",
   "metadata": {},
   "outputs": [],
   "source": [
    "#Performing train test split with ratio 80:20\n",
    "X_train, X_test , y_train, y_test = train_test_split(X,y, test_size=0.2, random_state=42)"
   ]
  },
  {
   "cell_type": "code",
   "execution_count": 487,
   "id": "ca141ef7",
   "metadata": {},
   "outputs": [
    {
     "data": {
      "text/html": [
       "<div>\n",
       "<style scoped>\n",
       "    .dataframe tbody tr th:only-of-type {\n",
       "        vertical-align: middle;\n",
       "    }\n",
       "\n",
       "    .dataframe tbody tr th {\n",
       "        vertical-align: top;\n",
       "    }\n",
       "\n",
       "    .dataframe thead th {\n",
       "        text-align: right;\n",
       "    }\n",
       "</style>\n",
       "<table border=\"1\" class=\"dataframe\">\n",
       "  <thead>\n",
       "    <tr style=\"text-align: right;\">\n",
       "      <th></th>\n",
       "      <th>age</th>\n",
       "      <th>sex</th>\n",
       "      <th>cp</th>\n",
       "      <th>trestbps</th>\n",
       "      <th>chol</th>\n",
       "      <th>fbs</th>\n",
       "      <th>restecg</th>\n",
       "      <th>thalch</th>\n",
       "      <th>exang</th>\n",
       "      <th>oldpeak</th>\n",
       "      <th>slope</th>\n",
       "      <th>thal</th>\n",
       "    </tr>\n",
       "  </thead>\n",
       "  <tbody>\n",
       "    <tr>\n",
       "      <th>865</th>\n",
       "      <td>63</td>\n",
       "      <td>1</td>\n",
       "      <td>2</td>\n",
       "      <td>130</td>\n",
       "      <td>250.0</td>\n",
       "      <td>0</td>\n",
       "      <td>1</td>\n",
       "      <td>111</td>\n",
       "      <td>1</td>\n",
       "      <td>0.0</td>\n",
       "      <td>1</td>\n",
       "      <td>2</td>\n",
       "    </tr>\n",
       "    <tr>\n",
       "      <th>439</th>\n",
       "      <td>58</td>\n",
       "      <td>1</td>\n",
       "      <td>3</td>\n",
       "      <td>170</td>\n",
       "      <td>256.0</td>\n",
       "      <td>1</td>\n",
       "      <td>1</td>\n",
       "      <td>105</td>\n",
       "      <td>1</td>\n",
       "      <td>0.0</td>\n",
       "      <td>2</td>\n",
       "      <td>0</td>\n",
       "    </tr>\n",
       "    <tr>\n",
       "      <th>342</th>\n",
       "      <td>41</td>\n",
       "      <td>1</td>\n",
       "      <td>1</td>\n",
       "      <td>120</td>\n",
       "      <td>291.0</td>\n",
       "      <td>0</td>\n",
       "      <td>1</td>\n",
       "      <td>160</td>\n",
       "      <td>0</td>\n",
       "      <td>0.0</td>\n",
       "      <td>2</td>\n",
       "      <td>0</td>\n",
       "    </tr>\n",
       "    <tr>\n",
       "      <th>736</th>\n",
       "      <td>61</td>\n",
       "      <td>1</td>\n",
       "      <td>3</td>\n",
       "      <td>146</td>\n",
       "      <td>241.0</td>\n",
       "      <td>0</td>\n",
       "      <td>0</td>\n",
       "      <td>148</td>\n",
       "      <td>1</td>\n",
       "      <td>3.0</td>\n",
       "      <td>2</td>\n",
       "      <td>1</td>\n",
       "    </tr>\n",
       "    <tr>\n",
       "      <th>785</th>\n",
       "      <td>54</td>\n",
       "      <td>1</td>\n",
       "      <td>3</td>\n",
       "      <td>110</td>\n",
       "      <td>206.0</td>\n",
       "      <td>0</td>\n",
       "      <td>2</td>\n",
       "      <td>108</td>\n",
       "      <td>1</td>\n",
       "      <td>0.0</td>\n",
       "      <td>1</td>\n",
       "      <td>0</td>\n",
       "    </tr>\n",
       "    <tr>\n",
       "      <th>...</th>\n",
       "      <td>...</td>\n",
       "      <td>...</td>\n",
       "      <td>...</td>\n",
       "      <td>...</td>\n",
       "      <td>...</td>\n",
       "      <td>...</td>\n",
       "      <td>...</td>\n",
       "      <td>...</td>\n",
       "      <td>...</td>\n",
       "      <td>...</td>\n",
       "      <td>...</td>\n",
       "      <td>...</td>\n",
       "    </tr>\n",
       "    <tr>\n",
       "      <th>580</th>\n",
       "      <td>52</td>\n",
       "      <td>1</td>\n",
       "      <td>3</td>\n",
       "      <td>140</td>\n",
       "      <td>266.0</td>\n",
       "      <td>0</td>\n",
       "      <td>0</td>\n",
       "      <td>134</td>\n",
       "      <td>1</td>\n",
       "      <td>2.0</td>\n",
       "      <td>1</td>\n",
       "      <td>1</td>\n",
       "    </tr>\n",
       "    <tr>\n",
       "      <th>868</th>\n",
       "      <td>65</td>\n",
       "      <td>1</td>\n",
       "      <td>3</td>\n",
       "      <td>126</td>\n",
       "      <td>312.0</td>\n",
       "      <td>0</td>\n",
       "      <td>2</td>\n",
       "      <td>156</td>\n",
       "      <td>0</td>\n",
       "      <td>1.6</td>\n",
       "      <td>2</td>\n",
       "      <td>0</td>\n",
       "    </tr>\n",
       "    <tr>\n",
       "      <th>445</th>\n",
       "      <td>53</td>\n",
       "      <td>1</td>\n",
       "      <td>3</td>\n",
       "      <td>140</td>\n",
       "      <td>203.0</td>\n",
       "      <td>1</td>\n",
       "      <td>2</td>\n",
       "      <td>155</td>\n",
       "      <td>1</td>\n",
       "      <td>3.1</td>\n",
       "      <td>2</td>\n",
       "      <td>2</td>\n",
       "    </tr>\n",
       "    <tr>\n",
       "      <th>786</th>\n",
       "      <td>54</td>\n",
       "      <td>1</td>\n",
       "      <td>3</td>\n",
       "      <td>122</td>\n",
       "      <td>286.0</td>\n",
       "      <td>0</td>\n",
       "      <td>2</td>\n",
       "      <td>116</td>\n",
       "      <td>1</td>\n",
       "      <td>3.2</td>\n",
       "      <td>1</td>\n",
       "      <td>0</td>\n",
       "    </tr>\n",
       "    <tr>\n",
       "      <th>25</th>\n",
       "      <td>45</td>\n",
       "      <td>0</td>\n",
       "      <td>1</td>\n",
       "      <td>112</td>\n",
       "      <td>160.0</td>\n",
       "      <td>0</td>\n",
       "      <td>0</td>\n",
       "      <td>138</td>\n",
       "      <td>0</td>\n",
       "      <td>0.0</td>\n",
       "      <td>1</td>\n",
       "      <td>0</td>\n",
       "    </tr>\n",
       "  </tbody>\n",
       "</table>\n",
       "<p>182 rows × 12 columns</p>\n",
       "</div>"
      ],
      "text/plain": [
       "     age  sex  cp  trestbps   chol  fbs  restecg  thalch  exang  oldpeak  \\\n",
       "865   63    1   2       130  250.0    0        1     111      1      0.0   \n",
       "439   58    1   3       170  256.0    1        1     105      1      0.0   \n",
       "342   41    1   1       120  291.0    0        1     160      0      0.0   \n",
       "736   61    1   3       146  241.0    0        0     148      1      3.0   \n",
       "785   54    1   3       110  206.0    0        2     108      1      0.0   \n",
       "..   ...  ...  ..       ...    ...  ...      ...     ...    ...      ...   \n",
       "580   52    1   3       140  266.0    0        0     134      1      2.0   \n",
       "868   65    1   3       126  312.0    0        2     156      0      1.6   \n",
       "445   53    1   3       140  203.0    1        2     155      1      3.1   \n",
       "786   54    1   3       122  286.0    0        2     116      1      3.2   \n",
       "25    45    0   1       112  160.0    0        0     138      0      0.0   \n",
       "\n",
       "     slope  thal  \n",
       "865      1     2  \n",
       "439      2     0  \n",
       "342      2     0  \n",
       "736      2     1  \n",
       "785      1     0  \n",
       "..     ...   ...  \n",
       "580      1     1  \n",
       "868      2     0  \n",
       "445      2     2  \n",
       "786      1     0  \n",
       "25       1     0  \n",
       "\n",
       "[182 rows x 12 columns]"
      ]
     },
     "execution_count": 487,
     "metadata": {},
     "output_type": "execute_result"
    }
   ],
   "source": [
    "X_test"
   ]
  },
  {
   "cell_type": "code",
   "execution_count": 488,
   "id": "c1af988e",
   "metadata": {},
   "outputs": [],
   "source": [
    "#Initializing a DecisionTreeClassifier\n",
    "decisiontree = DecisionTreeClassifier(random_state=42)\n",
    "\n"
   ]
  },
  {
   "cell_type": "code",
   "execution_count": 273,
   "id": "ad465c3e",
   "metadata": {},
   "outputs": [
    {
     "data": {
      "text/plain": [
       "0.554945054945055"
      ]
     },
     "execution_count": 273,
     "metadata": {},
     "output_type": "execute_result"
    }
   ],
   "source": [
    "#Training the decision tree on our training data\n",
    "decisiontree.fit(X_train, y_train)\n",
    "#Getting the accuracy on the test data\n",
    "decisiontree.score(X_test, y_test)"
   ]
  },
  {
   "cell_type": "code",
   "execution_count": 274,
   "id": "3640c21d",
   "metadata": {},
   "outputs": [
    {
     "name": "stdout",
     "output_type": "stream",
     "text": [
      "Accuracy in different folds: [0.55494505 0.56043956 0.56043956 0.53038674 0.50276243]\n",
      "Mean Accuracy:  0.5417946694189788\n"
     ]
    }
   ],
   "source": [
    "#Cross validating our model with KFold cross validation to get the more accurate performance of model\n",
    "kfold = KFold(n_splits=5, shuffle=True, random_state=42)\n",
    "cvscore = cross_val_score(estimator=decisiontree, X=X, y=y, cv=kfold)\n",
    "print('Accuracy in different folds:',cvscore)\n",
    "print('Mean Accuracy: ',cvscore.mean())"
   ]
  },
  {
   "cell_type": "markdown",
   "id": "7c52e6f7",
   "metadata": {},
   "source": [
    "### We could acheive the accuracy of around 54% without any hyper parameter tuning"
   ]
  },
  {
   "cell_type": "code",
   "execution_count": 258,
   "id": "dd8880b0",
   "metadata": {},
   "outputs": [
    {
     "data": {
      "image/png": "[encoded data removed]",
      "text/plain": [
       "<Figure size 640x480 with 1 Axes>"
      ]
     },
     "metadata": {},
     "output_type": "display_data"
    }
   ],
   "source": [
    "tree.plot_tree(decisiontree);"
   ]
  },
  {
   "cell_type": "markdown",
   "id": "c8386fcd",
   "metadata": {},
   "source": [
    "### We can see that the decision tree without any limitation of parameters grows to 16 levels\n",
    "### We can see its other characteristics below"
   ]
  },
  {
   "cell_type": "code",
   "execution_count": 276,
   "id": "e193e786",
   "metadata": {},
   "outputs": [
    {
     "name": "stdout",
     "output_type": "stream",
     "text": [
      "Tree Depth: 16\n",
      "Number of Leaves: 234\n",
      "Number of Nodes: 467\n",
      "Feature Importances: [0.12765269 0.02663571 0.12774777 0.10112996 0.21747001 0.01445881\n",
      " 0.03612946 0.10343194 0.031877   0.11448897 0.04072295 0.05825473]\n"
     ]
    }
   ],
   "source": [
    "# Get characteristics\n",
    "tree_depth = decisiontree.get_depth()\n",
    "n_leaves = decisiontree.get_n_leaves()\n",
    "n_nodes = decisiontree.tree_.node_count\n",
    "feature_importances = decisiontree.feature_importances_\n",
    "\n",
    "print(f\"Tree Depth: {tree_depth}\")\n",
    "print(f\"Number of Leaves: {n_leaves}\")\n",
    "print(f\"Number of Nodes: {n_nodes}\")\n",
    "print(f\"Feature Importances: {feature_importances}\")"
   ]
  },
  {
   "cell_type": "markdown",
   "id": "a6d2ac2c",
   "metadata": {},
   "source": [
    "# Performing Hyperparameter tuning of the Decision Tree with the GridSearchCV"
   ]
  },
  {
   "cell_type": "markdown",
   "id": "f9b03d7d",
   "metadata": {},
   "source": [
    "## 1.Accuracy : Tuning for best accuracy"
   ]
  },
  {
   "cell_type": "code",
   "execution_count": 336,
   "id": "75921da0",
   "metadata": {},
   "outputs": [],
   "source": [
    "#Initializing the values to pass in the gridsearchcv\n",
    "\n",
    "#Model with basix set parameters\n",
    "estimator = DecisionTreeClassifier(random_state=42)\n",
    "\n",
    "#Parameters with which the model will be tested\n",
    "param_grid = {'max_depth': list(range(3,20)), \n",
    "              'min_samples_split': list(range(2,90)),\n",
    "               'max_features': [\"auto\", \"sqrt\", \"log2\", 12, 11,10,9,8,7,6,5,4,3,2 ]\n",
    "             }\n",
    "#KFold instance\n",
    "kfold = KFold(n_splits=5, shuffle=True, random_state=42)\n"
   ]
  },
  {
   "cell_type": "code",
   "execution_count": 337,
   "id": "1771af77",
   "metadata": {},
   "outputs": [
    {
     "name": "stdout",
     "output_type": "stream",
     "text": [
      "Best Accuracy:  0.6221844453888653\n",
      "Best Parameters:  {'max_depth': 10, 'max_features': 9, 'min_samples_split': 62}\n"
     ]
    }
   ],
   "source": [
    "#Initializing the instance of the gridsearchcv\n",
    "#Scoring parameter is by default set to None, so it optimizes the accuracy in this case\n",
    "gridsearch = GridSearchCV(estimator = estimator, param_grid=param_grid, n_jobs=-1, return_train_score=False, cv=kfold )\n",
    "\n",
    "#Running the model on data\n",
    "gridsearch.fit(X,y)\n",
    "\n",
    "#Getting the results of the grid search\n",
    "#The results are in the form of a dictionary containing all the combinations of hyperparameters, their test scores for each fold and their aggregate score\n",
    "gridsearch_results = gridsearch.cv_results_\n",
    "\n",
    "#Getting the best cross val score of the decision tree model\n",
    "print('Best Accuracy: ',gridsearch.best_score_)\n",
    "\n",
    "#The hyperparameters with which the best score arrived\n",
    "print('Best Parameters: ',gridsearch.best_params_)"
   ]
  },
  {
   "cell_type": "code",
   "execution_count": 339,
   "id": "ff7f78bf",
   "metadata": {},
   "outputs": [
    {
     "data": {
      "application/javascript": [
       "\n",
       "        if (window._pyforest_update_imports_cell) { window._pyforest_update_imports_cell('import pandas as pd\\nimport seaborn as sns\\nimport numpy as np\\nimport matplotlib.pyplot as plt'); }\n",
       "    "
      ],
      "text/plain": [
       "<IPython.core.display.Javascript object>"
      ]
     },
     "metadata": {},
     "output_type": "display_data"
    },
    {
     "data": {
      "text/html": [
       "<div>\n",
       "<style scoped>\n",
       "    .dataframe tbody tr th:only-of-type {\n",
       "        vertical-align: middle;\n",
       "    }\n",
       "\n",
       "    .dataframe tbody tr th {\n",
       "        vertical-align: top;\n",
       "    }\n",
       "\n",
       "    .dataframe thead th {\n",
       "        text-align: right;\n",
       "    }\n",
       "</style>\n",
       "<table border=\"1\" class=\"dataframe\">\n",
       "  <thead>\n",
       "    <tr style=\"text-align: right;\">\n",
       "      <th></th>\n",
       "      <th>mean_fit_time</th>\n",
       "      <th>std_fit_time</th>\n",
       "      <th>mean_score_time</th>\n",
       "      <th>std_score_time</th>\n",
       "      <th>param_max_depth</th>\n",
       "      <th>param_max_features</th>\n",
       "      <th>param_min_samples_split</th>\n",
       "      <th>params</th>\n",
       "      <th>split0_test_score</th>\n",
       "      <th>split1_test_score</th>\n",
       "      <th>split2_test_score</th>\n",
       "      <th>split3_test_score</th>\n",
       "      <th>split4_test_score</th>\n",
       "      <th>mean_test_score</th>\n",
       "      <th>std_test_score</th>\n",
       "      <th>rank_test_score</th>\n",
       "    </tr>\n",
       "  </thead>\n",
       "  <tbody>\n",
       "    <tr>\n",
       "      <th>0</th>\n",
       "      <td>0.000000</td>\n",
       "      <td>0.000000</td>\n",
       "      <td>0.0</td>\n",
       "      <td>0.0</td>\n",
       "      <td>3</td>\n",
       "      <td>auto</td>\n",
       "      <td>2</td>\n",
       "      <td>{'max_depth': 3, 'max_features': 'auto', 'min_...</td>\n",
       "      <td>NaN</td>\n",
       "      <td>NaN</td>\n",
       "      <td>NaN</td>\n",
       "      <td>NaN</td>\n",
       "      <td>NaN</td>\n",
       "      <td>NaN</td>\n",
       "      <td>NaN</td>\n",
       "      <td>19449</td>\n",
       "    </tr>\n",
       "    <tr>\n",
       "      <th>1</th>\n",
       "      <td>0.000000</td>\n",
       "      <td>0.000000</td>\n",
       "      <td>0.0</td>\n",
       "      <td>0.0</td>\n",
       "      <td>3</td>\n",
       "      <td>auto</td>\n",
       "      <td>3</td>\n",
       "      <td>{'max_depth': 3, 'max_features': 'auto', 'min_...</td>\n",
       "      <td>NaN</td>\n",
       "      <td>NaN</td>\n",
       "      <td>NaN</td>\n",
       "      <td>NaN</td>\n",
       "      <td>NaN</td>\n",
       "      <td>NaN</td>\n",
       "      <td>NaN</td>\n",
       "      <td>19449</td>\n",
       "    </tr>\n",
       "    <tr>\n",
       "      <th>2</th>\n",
       "      <td>0.006589</td>\n",
       "      <td>0.008070</td>\n",
       "      <td>0.0</td>\n",
       "      <td>0.0</td>\n",
       "      <td>3</td>\n",
       "      <td>auto</td>\n",
       "      <td>4</td>\n",
       "      <td>{'max_depth': 3, 'max_features': 'auto', 'min_...</td>\n",
       "      <td>NaN</td>\n",
       "      <td>NaN</td>\n",
       "      <td>NaN</td>\n",
       "      <td>NaN</td>\n",
       "      <td>NaN</td>\n",
       "      <td>NaN</td>\n",
       "      <td>NaN</td>\n",
       "      <td>19449</td>\n",
       "    </tr>\n",
       "    <tr>\n",
       "      <th>3</th>\n",
       "      <td>0.003854</td>\n",
       "      <td>0.006587</td>\n",
       "      <td>0.0</td>\n",
       "      <td>0.0</td>\n",
       "      <td>3</td>\n",
       "      <td>auto</td>\n",
       "      <td>5</td>\n",
       "      <td>{'max_depth': 3, 'max_features': 'auto', 'min_...</td>\n",
       "      <td>NaN</td>\n",
       "      <td>NaN</td>\n",
       "      <td>NaN</td>\n",
       "      <td>NaN</td>\n",
       "      <td>NaN</td>\n",
       "      <td>NaN</td>\n",
       "      <td>NaN</td>\n",
       "      <td>19449</td>\n",
       "    </tr>\n",
       "    <tr>\n",
       "      <th>4</th>\n",
       "      <td>0.001866</td>\n",
       "      <td>0.000557</td>\n",
       "      <td>0.0</td>\n",
       "      <td>0.0</td>\n",
       "      <td>3</td>\n",
       "      <td>auto</td>\n",
       "      <td>6</td>\n",
       "      <td>{'max_depth': 3, 'max_features': 'auto', 'min_...</td>\n",
       "      <td>NaN</td>\n",
       "      <td>NaN</td>\n",
       "      <td>NaN</td>\n",
       "      <td>NaN</td>\n",
       "      <td>NaN</td>\n",
       "      <td>NaN</td>\n",
       "      <td>NaN</td>\n",
       "      <td>19449</td>\n",
       "    </tr>\n",
       "  </tbody>\n",
       "</table>\n",
       "</div>"
      ],
      "text/plain": [
       "   mean_fit_time  std_fit_time  mean_score_time  std_score_time  \\\n",
       "0       0.000000      0.000000              0.0             0.0   \n",
       "1       0.000000      0.000000              0.0             0.0   \n",
       "2       0.006589      0.008070              0.0             0.0   \n",
       "3       0.003854      0.006587              0.0             0.0   \n",
       "4       0.001866      0.000557              0.0             0.0   \n",
       "\n",
       "  param_max_depth param_max_features param_min_samples_split  \\\n",
       "0               3               auto                       2   \n",
       "1               3               auto                       3   \n",
       "2               3               auto                       4   \n",
       "3               3               auto                       5   \n",
       "4               3               auto                       6   \n",
       "\n",
       "                                              params  split0_test_score  \\\n",
       "0  {'max_depth': 3, 'max_features': 'auto', 'min_...                NaN   \n",
       "1  {'max_depth': 3, 'max_features': 'auto', 'min_...                NaN   \n",
       "2  {'max_depth': 3, 'max_features': 'auto', 'min_...                NaN   \n",
       "3  {'max_depth': 3, 'max_features': 'auto', 'min_...                NaN   \n",
       "4  {'max_depth': 3, 'max_features': 'auto', 'min_...                NaN   \n",
       "\n",
       "   split1_test_score  split2_test_score  split3_test_score  split4_test_score  \\\n",
       "0                NaN                NaN                NaN                NaN   \n",
       "1                NaN                NaN                NaN                NaN   \n",
       "2                NaN                NaN                NaN                NaN   \n",
       "3                NaN                NaN                NaN                NaN   \n",
       "4                NaN                NaN                NaN                NaN   \n",
       "\n",
       "   mean_test_score  std_test_score  rank_test_score  \n",
       "0              NaN             NaN            19449  \n",
       "1              NaN             NaN            19449  \n",
       "2              NaN             NaN            19449  \n",
       "3              NaN             NaN            19449  \n",
       "4              NaN             NaN            19449  "
      ]
     },
     "execution_count": 339,
     "metadata": {},
     "output_type": "execute_result"
    }
   ],
   "source": [
    "#Storing the results of the gridsearch into a dataframe\n",
    "gridsearch_results = pd.DataFrame(gridsearch_results)\n",
    "gridsearch_results.head()"
   ]
  },
  {
   "cell_type": "markdown",
   "id": "e7fe9031",
   "metadata": {},
   "source": [
    "## Doing predictions on our X_test with the obtained best hyperparameters"
   ]
  },
  {
   "cell_type": "code",
   "execution_count": 341,
   "id": "fa269a5f",
   "metadata": {},
   "outputs": [
    {
     "name": "stdout",
     "output_type": "stream",
     "text": [
      "Confusion Matrix\n",
      "[[75 11  2  1  0]\n",
      " [17 23  2  6  0]\n",
      " [ 4  9  6  3  0]\n",
      " [ 4  9  1  3  0]\n",
      " [ 0  5  1  0  0]]\n",
      "Accuracy:  0.5879120879120879\n"
     ]
    }
   ],
   "source": [
    "best_deci_tree = DecisionTreeClassifier(max_depth= 10, max_features= 9, min_samples_split= 62, random_state=42)\n",
    "#Training\n",
    "best_deci_tree.fit(X_train, y_train)\n",
    "#Predicting\n",
    "y_pred = best_deci_tree.predict(X_test)\n",
    "\n",
    "#Confusion Matrix\n",
    "cm = confusion_matrix(y_test, y_pred)\n",
    "\n",
    "#Accuracy\n",
    "accuracy = accuracy_score(y_test, y_pred)\n",
    "\n",
    "print('Confusion Matrix')\n",
    "print(cm)\n",
    "print('Accuracy: ',accuracy)"
   ]
  },
  {
   "cell_type": "markdown",
   "id": "8c94a097",
   "metadata": {},
   "source": [
    "## Interpreting the effectiveness of predictions via confusion matrix\n",
    "### In Test Data\n",
    "### True People with Health Issues : 93\n",
    "### 25/93 Declared as healthy (Very Dangerous!!!)\n",
    "### 25/93 Declared to be at lower stage than actual stage (Very Dangerous!!!)\n",
    "### 32/93 Correct Prediction of Stage\n",
    "### 11/93 Predicted with a higher stage than actual stage (Problematic!)\n",
    "## We can see that the model is not effective in correctly identifying the health conditions \n"
   ]
  },
  {
   "cell_type": "markdown",
   "id": "ebeb789b",
   "metadata": {},
   "source": [
    "# 2. Precision : Optimize the precision "
   ]
  },
  {
   "cell_type": "markdown",
   "id": "2bba4cc7",
   "metadata": {},
   "source": [
    "## 2.1 Macro Precision"
   ]
  },
  {
   "cell_type": "code",
   "execution_count": 343,
   "id": "fd920b97",
   "metadata": {},
   "outputs": [
    {
     "name": "stdout",
     "output_type": "stream",
     "text": [
      "Best Macro-Precision:  0.554272984325616\n",
      "Best Parameters:  {'max_depth': 7, 'max_features': 10, 'min_samples_split': 18}\n"
     ]
    }
   ],
   "source": [
    "#Initializing the instance of the gridsearchcv\n",
    "gridsearch_mac_prec = GridSearchCV(estimator = estimator, param_grid=param_grid, n_jobs=-1, return_train_score=False, cv=kfold, scoring='precision_macro' )\n",
    "\n",
    "#Running the model on data\n",
    "gridsearch_mac_prec.fit(X,y)\n",
    "\n",
    "#Getting the results of the grid search\n",
    "#The results are in the form of a dictionary containing all the combinations of hyperparameters, their test scores for each fold and their aggregate score\n",
    "gridsearch_results_mac_prec = gridsearch_mac_prec.cv_results_\n",
    "\n",
    "#Getting the best cross val score of the decision tree model\n",
    "print('Best Macro-Precision: ',gridsearch_mac_prec.best_score_)\n",
    "\n",
    "#The hyperparameters with which the best score arrived\n",
    "print('Best Parameters: ',gridsearch_mac_prec.best_params_)"
   ]
  },
  {
   "cell_type": "markdown",
   "id": "38ebd96c",
   "metadata": {},
   "source": [
    "## Checking the individual precision scores of each class with best parameters"
   ]
  },
  {
   "cell_type": "code",
   "execution_count": 349,
   "id": "53f3ecb9",
   "metadata": {},
   "outputs": [
    {
     "name": "stdout",
     "output_type": "stream",
     "text": [
      "precision scores: [0.75       0.41538462 0.42857143 0.57142857 0.        ]\n"
     ]
    }
   ],
   "source": [
    "decitree = DecisionTreeClassifier(max_depth= 7, max_features= 10, min_samples_split= 18, random_state=42)\n",
    "decitree.fit(X_train, y_train)\n",
    "y_pred = decitree.predict(X_test)\n",
    "precision = precision_score(y_test, y_pred, average=None)\n",
    "print('precision scores:', precision)"
   ]
  },
  {
   "cell_type": "markdown",
   "id": "71f37aa1",
   "metadata": {},
   "source": [
    "## 2.2 Micro Precision "
   ]
  },
  {
   "cell_type": "markdown",
   "id": "e39fd58e",
   "metadata": {},
   "source": [
    "## Micro precision in case of multi-class classification is essentially equal to the accuracy score"
   ]
  },
  {
   "cell_type": "code",
   "execution_count": 346,
   "id": "b6172ca0",
   "metadata": {},
   "outputs": [
    {
     "name": "stdout",
     "output_type": "stream",
     "text": [
      "Best Micro-Precision:  0.6221844453888653\n",
      "Best Parameters:  {'max_depth': 10, 'max_features': 9, 'min_samples_split': 62}\n"
     ]
    }
   ],
   "source": [
    "#Initializing the instance of the gridsearchcv\n",
    "gridsearch_mic_prec = GridSearchCV(estimator = estimator, param_grid=param_grid, n_jobs=-1, return_train_score=False, cv=kfold, scoring='precision_micro' )\n",
    "\n",
    "#Running the model on data\n",
    "gridsearch_mic_prec.fit(X,y)\n",
    "\n",
    "#Getting the results of the grid search\n",
    "#The results are in the form of a dictionary containing all the combinations of hyperparameters, their test scores for each fold and their aggregate score\n",
    "gridsearch_results_mic_prec = gridsearch_mic_prec.cv_results_\n",
    "\n",
    "#Getting the best cross val score of the decision tree model\n",
    "print('Best Micro-Precision: ',gridsearch_mic_prec.best_score_)\n",
    "\n",
    "#The hyperparameters with which the best score arrived\n",
    "print('Best Parameters: ',gridsearch_mic_prec.best_params_)"
   ]
  },
  {
   "cell_type": "markdown",
   "id": "3e689bca",
   "metadata": {},
   "source": [
    "## Checking the individual precision scores of each class with best parameters"
   ]
  },
  {
   "cell_type": "code",
   "execution_count": 350,
   "id": "af0de7f2",
   "metadata": {},
   "outputs": [
    {
     "name": "stdout",
     "output_type": "stream",
     "text": [
      "precision scores: [0.75       0.40350877 0.5        0.23076923 0.        ]\n"
     ]
    }
   ],
   "source": [
    "decitree = DecisionTreeClassifier(max_depth= 10, max_features= 9, min_samples_split= 62, random_state=42)\n",
    "decitree.fit(X_train, y_train)\n",
    "y_pred = decitree.predict(X_test)\n",
    "precision = precision_score(y_test, y_pred, average=None)\n",
    "print('precision scores:', precision)"
   ]
  },
  {
   "cell_type": "markdown",
   "id": "e663edaa",
   "metadata": {},
   "source": [
    "## 2.3 Weighted Precision"
   ]
  },
  {
   "cell_type": "code",
   "execution_count": 347,
   "id": "e8fbcd3d",
   "metadata": {},
   "outputs": [],
   "source": [
    "#Initializing the instance of the gridsearchcv\n",
    "gridsearch_weg_prec = GridSearchCV(estimator = estimator, param_grid=param_grid, n_jobs=-1, return_train_score=False, cv=kfold, scoring='precision_weighted' )\n",
    "\n",
    "#Running the model on data\n",
    "gridsearch_weg_prec.fit(X,y)\n",
    "\n",
    "#Getting the results of the grid search\n",
    "#The results are in the form of a dictionary containing all the combinations of hyperparameters, their test scores for each fold and their aggregate score\n",
    "gridsearch_results_weg_prec = gridsearch_weg_prec.cv_results_\n",
    "\n"
   ]
  },
  {
   "cell_type": "code",
   "execution_count": 348,
   "id": "3353a50d",
   "metadata": {},
   "outputs": [
    {
     "name": "stdout",
     "output_type": "stream",
     "text": [
      "Best Weighted-Precision:  0.6277280652886359\n",
      "Best Parameters:  {'max_depth': 6, 'max_features': 11, 'min_samples_split': 39}\n"
     ]
    }
   ],
   "source": [
    "#Getting the best cross val score of the decision tree model\n",
    "print('Best Weighted-Precision: ',gridsearch_weg_prec.best_score_)\n",
    "\n",
    "#The hyperparameters with which the best score arrived\n",
    "print('Best Parameters: ',gridsearch_weg_prec.best_params_)"
   ]
  },
  {
   "cell_type": "markdown",
   "id": "200a1219",
   "metadata": {},
   "source": [
    "## In disease classification problems, its is important that maximum number of people declared healthy are actually healthy. \n",
    "\n",
    "## This can be judged by seeing the precision score of class '0', which says the what percentage of people who were declared to be healthy were actually healthy\n",
    "\n"
   ]
  },
  {
   "cell_type": "markdown",
   "id": "2acb8ba1",
   "metadata": {},
   "source": [
    "## Checking the individual precision scores of each class with best parameters"
   ]
  },
  {
   "cell_type": "code",
   "execution_count": 516,
   "id": "388f2e2c",
   "metadata": {},
   "outputs": [
    {
     "name": "stdout",
     "output_type": "stream",
     "text": [
      "Obtained by tuning on weighted precision\n",
      "precision scores: [0.69148936 0.50819672 0.8        0.3125     0.        ]\n",
      "Confusion Matrix:  \n",
      " [[65 11  0  3  0]\n",
      " [22 31  0  1  1]\n",
      " [ 5  7  8  3  0]\n",
      " [ 1  9  2  5  0]\n",
      " [ 1  3  0  4  0]] \n",
      "\n",
      "Obtained by tuning on weighted precision\n",
      "precision scores: [0.67       0.48484848 1.         0.33333333 0.        ]\n",
      "Confusion Matrix:  \n",
      " [[67 11  0  1  0]\n",
      " [22 32  0  1  0]\n",
      " [ 4 11  4  4  0]\n",
      " [ 4  9  0  4  0]\n",
      " [ 3  3  0  2  0]] \n",
      "\n",
      "Obtained by tuning on weighted precision\n",
      "precision scores: [0.7311828  0.55384615 0.77777778 0.26666667 0.        ]\n",
      "Confusion Matrix:  \n",
      " [[68  9  1  1  0]\n",
      " [16 36  0  3  0]\n",
      " [ 3  9  7  4  0]\n",
      " [ 4  8  1  4  0]\n",
      " [ 2  3  0  3  0]] \n",
      "\n"
     ]
    }
   ],
   "source": [
    "#Performing train test split with ratio 80:20\n",
    "X_train, X_test , y_train, y_test = train_test_split(X,y, test_size=0.2)\n",
    "\n",
    "#Creating a decision tree classifier with the best parameters obtained\n",
    "decitree = DecisionTreeClassifier(max_depth= 7, max_features= 10, min_samples_split= 18, random_state=42)\n",
    "decitree.fit(X_train, y_train)\n",
    "y_pred = decitree.predict(X_test)\n",
    "precision = precision_score(y_test, y_pred, average=None)\n",
    "conf_mat = confusion_matrix(y_test, y_pred)\n",
    "print('Obtained by tuning on weighted precision')\n",
    "print('precision scores:', precision)\n",
    "print('Confusion Matrix: ','\\n', conf_mat,'\\n')\n",
    "\n",
    "\n",
    "#Creating a decision tree classifier with the best parameters obtained\n",
    "decitree = DecisionTreeClassifier(max_depth= 10, max_features= 9, min_samples_split= 62, random_state=42)\n",
    "decitree.fit(X_train, y_train)\n",
    "y_pred = decitree.predict(X_test)\n",
    "precision = precision_score(y_test, y_pred, average=None)\n",
    "conf_mat = confusion_matrix(y_test, y_pred)\n",
    "print('Obtained by tuning on weighted precision')\n",
    "print('precision scores:', precision)\n",
    "print('Confusion Matrix: ','\\n', conf_mat,'\\n')\n",
    "\n",
    "#Creating a decision tree classifier with the best parameters obtained\n",
    "decitree = DecisionTreeClassifier(max_depth= 6, max_features= 11, min_samples_split= 39, random_state=42)\n",
    "decitree.fit(X_train, y_train)\n",
    "y_pred = decitree.predict(X_test)\n",
    "precision = precision_score(y_test, y_pred, average=None)\n",
    "conf_mat = confusion_matrix(y_test, y_pred)\n",
    "print('Obtained by tuning on weighted precision')\n",
    "print('precision scores:', precision)\n",
    "print('Confusion Matrix: ','\\n', conf_mat,'\\n')\n",
    "\n",
    "#Performing train test split with ratio 80:20\n",
    "X_train, X_test , y_train, y_test = train_test_split(X,y, test_size=0.2, random_state=42)"
   ]
  },
  {
   "cell_type": "markdown",
   "id": "e9607c82",
   "metadata": {},
   "source": [
    "## Running accross different randomly sampled data for train and test\n",
    "## We can see that precision of class '0' ranges widely between 50% 90% which is very poor.\n",
    "## Analysing the confusion matrix of the models, none of them are reliable predictors"
   ]
  },
  {
   "cell_type": "markdown",
   "id": "02b6b389",
   "metadata": {},
   "source": [
    "# 3. Recall"
   ]
  },
  {
   "cell_type": "markdown",
   "id": "9bc01b1b",
   "metadata": {},
   "source": [
    "## Recall is a great metric as it gives the measure of how many instances have been correctly identified in each class. \n",
    "## Our main motive is to maximize the number of true predictions for each classes especially in classes 1,2,3,& 4. These are critical classes, and false negatives(failing to predict their instances) is very serious.\n",
    "## We will choose the type of recall that gives more importance to recall values of these classes.\n",
    "## Out of 3 types of recall (macro, micro, weighted), macro is the best suitable for our motive. "
   ]
  },
  {
   "cell_type": "markdown",
   "id": "8938961e",
   "metadata": {},
   "source": [
    "## 3.1 Macro Recall"
   ]
  },
  {
   "cell_type": "code",
   "execution_count": 356,
   "id": "d6d1b7b0",
   "metadata": {},
   "outputs": [],
   "source": [
    "\n",
    "\n",
    "#Initializing the instance of the gridsearchcv\n",
    "gridsearch_mac_recall = GridSearchCV(estimator = estimator, param_grid=param_grid, n_jobs=-1, return_train_score=False, cv=kfold, scoring='recall_macro' )\n",
    "\n",
    "#Running the model on data\n",
    "gridsearch_mac_recall.fit(X,y)\n",
    "\n",
    "#Getting the results of the grid search\n",
    "#The results are in the form of a dictionary containing all the combinations of hyperparameters, their test scores for each fold and their aggregate score\n",
    "gridsearch_results_mac_recall = gridsearch_mac_recall.cv_results_\n",
    "\n"
   ]
  },
  {
   "cell_type": "code",
   "execution_count": 357,
   "id": "49f5fda2",
   "metadata": {},
   "outputs": [
    {
     "name": "stdout",
     "output_type": "stream",
     "text": [
      "Best Macro-Recall:  0.4530429775111437\n",
      "Best Parameters:  {'max_depth': 16, 'max_features': 6, 'min_samples_split': 3}\n"
     ]
    }
   ],
   "source": [
    "#Getting the best cross val score of the decision tree model\n",
    "print('Best Macro-Recall: ',gridsearch_mac_recall.best_score_)\n",
    "\n",
    "#The hyperparameters with which the best score arrived\n",
    "print('Best Parameters: ',gridsearch_mac_recall.best_params_)"
   ]
  },
  {
   "cell_type": "code",
   "execution_count": 697,
   "id": "9ca992d3",
   "metadata": {},
   "outputs": [
    {
     "name": "stdout",
     "output_type": "stream",
     "text": [
      "Obtained by tuning on macro recall\n",
      "recall scores: [0.74157303 0.5        0.45454545 0.23529412 0.        ]\n",
      "Confusion Matrix:  \n",
      " [[66 17  1  2  3]\n",
      " [17 24  3  3  1]\n",
      " [ 4  5 10  1  2]\n",
      " [ 4  9  0  4  0]\n",
      " [ 1  2  3  0  0]] \n",
      "\n"
     ]
    }
   ],
   "source": [
    "#Performing train test split with ratio 80:20\n",
    "X_train, X_test , y_train, y_test = train_test_split(X,y, test_size=0.2, random_state=42)\n",
    "\n",
    "#Creating a decision tree classifier with the best parameters obtained\n",
    "decitree = DecisionTreeClassifier(max_depth= 16, max_features= 6, min_samples_split= 3, random_state=42)\n",
    "decitree.fit(X_train, y_train)\n",
    "y_pred = decitree.predict(X_test)\n",
    "recall = recall_score(y_test, y_pred, average=None)\n",
    "conf_mat = confusion_matrix(y_test, y_pred)\n",
    "print('Obtained by tuning on macro recall')\n",
    "print('recall scores:', recall)\n",
    "print('Confusion Matrix: ','\\n', conf_mat,'\\n')\n",
    "\n",
    "#Performing train test split with ratio 80:20\n",
    "X_train, X_test , y_train, y_test = train_test_split(X,y, test_size=0.2, random_state=42)"
   ]
  },
  {
   "cell_type": "markdown",
   "id": "f80d3946",
   "metadata": {},
   "source": [
    "## The above model is not good."
   ]
  },
  {
   "cell_type": "markdown",
   "id": "0b5dea55",
   "metadata": {},
   "source": [
    "# ------------------------------------------------------------------------------------------------------"
   ]
  },
  {
   "cell_type": "markdown",
   "id": "01433ec4",
   "metadata": {},
   "source": [
    "# Converting our multiclass classification problem into binary classification\n",
    "## This will better classify Healthy & Non-Healthy due to less complex classification\n",
    "## Let's call it PHASE-1\n"
   ]
  },
  {
   "cell_type": "markdown",
   "id": "ea82299e",
   "metadata": {},
   "source": [
    "# *******HYPER PARAMETER TUNING FOR PHASE-1 MODEL**"
   ]
  },
  {
   "cell_type": "markdown",
   "id": "b05be4f0",
   "metadata": {},
   "source": [
    "## Finding Best precision of healthy class"
   ]
  },
  {
   "cell_type": "code",
   "execution_count": 410,
   "id": "0aba6184",
   "metadata": {},
   "outputs": [],
   "source": [
    "#Creating a target of binary classes. 1=healthy , 0=heart problems\n",
    "y_bin_unh_h =y.astype('str')\n",
    "y_bin_unh_h =y_bin_1_0.replace({'0':1,'1':0,'2':0,'3':0,'4':0})\n"
   ]
  },
  {
   "cell_type": "code",
   "execution_count": 411,
   "id": "6665c8f3",
   "metadata": {},
   "outputs": [
    {
     "data": {
      "text/plain": [
       "num\n",
       "0    509\n",
       "1    399\n",
       "Name: count, dtype: int64"
      ]
     },
     "execution_count": 411,
     "metadata": {},
     "output_type": "execute_result"
    }
   ],
   "source": [
    "#The values were converted to string type. We need to convert them back to int\n",
    "y_bin_unh_h = y_bin_unh_h.astype('int')\n",
    "y_bin_unh_h.value_counts()"
   ]
  },
  {
   "cell_type": "code",
   "execution_count": 412,
   "id": "81085d4f",
   "metadata": {},
   "outputs": [],
   "source": [
    "# Creating a train test split with target of binary classes\n",
    "#Performing train test split with ratio 80:20\n",
    "X_train, X_test , y_bin_unh_h_train, y_bin_unh_h_test = train_test_split(X,y_bin_unh_h, test_size=0.2, random_state=42)"
   ]
  },
  {
   "cell_type": "code",
   "execution_count": 413,
   "id": "76e324ee",
   "metadata": {},
   "outputs": [],
   "source": [
    "#Initializing the instance of the gridsearchcv\n",
    "gridsearch_bin_unh_h_prec = GridSearchCV(estimator = estimator, param_grid=param_grid, n_jobs=-1, return_train_score=False, cv=kfold, scoring='precision' )\n",
    "\n",
    "#Running the model on data\n",
    "gridsearch_bin_unh_h_prec.fit(X,y_bin_unh_h)\n",
    "\n",
    "#Getting the results of the grid search\n",
    "#The results are in the form of a dictionary containing all the combinations of hyperparameters, their test scores for each fold and their aggregate score\n",
    "gridsearch_results_bin_unh_h_prec = gridsearch_bin_unh_h_prec.cv_results_\n"
   ]
  },
  {
   "cell_type": "code",
   "execution_count": 414,
   "id": "3e2afb81",
   "metadata": {},
   "outputs": [
    {
     "name": "stdout",
     "output_type": "stream",
     "text": [
      "Best Precision of healthy class:  0.8235870647635354\n",
      "Best Parameters:  {'max_depth': 13, 'max_features': 4, 'min_samples_split': 64}\n"
     ]
    }
   ],
   "source": [
    "\n",
    "#Getting the best cross val score of the decision tree model\n",
    "print('Best Precision of healthy class: ',gridsearch_bin_unh_h_prec.best_score_)\n",
    "\n",
    "#The hyperparameters with which the best score arrived\n",
    "print('Best Parameters: ',gridsearch_bin_unh_h_prec.best_params_)\n",
    "\n",
    "#print the confusion matrix\n",
    "confu_mat = confusion_matrix()"
   ]
  },
  {
   "cell_type": "markdown",
   "id": "1b8d4087",
   "metadata": {},
   "source": [
    "## Finding best recall of unhealthy class"
   ]
  },
  {
   "cell_type": "code",
   "execution_count": 418,
   "id": "5c9ddf37",
   "metadata": {},
   "outputs": [],
   "source": [
    "#Creating a target of binary classes. 0=heathy , 1=heart problems\n",
    "y_bin_h_unh =y.astype('str')\n",
    "y_bin_h_unh =y_bin_h_unh.replace(to_replace=\"[1-4]\", value=1, regex=True)\n"
   ]
  },
  {
   "cell_type": "code",
   "execution_count": 419,
   "id": "193cbdde",
   "metadata": {},
   "outputs": [
    {
     "data": {
      "text/plain": [
       "num\n",
       "1    509\n",
       "0    399\n",
       "Name: count, dtype: int64"
      ]
     },
     "execution_count": 419,
     "metadata": {},
     "output_type": "execute_result"
    }
   ],
   "source": [
    "#The values were converted to string type. We need to convert them back to int\n",
    "y_bin_h_unh = y_bin_h_unh.astype('int')\n",
    "y_bin_h_unh.value_counts()"
   ]
  },
  {
   "cell_type": "code",
   "execution_count": 531,
   "id": "afbb403a",
   "metadata": {},
   "outputs": [],
   "source": [
    "# Creating a train test split with target of binary classes\n",
    "#Performing train test split with ratio 80:20\n",
    "X_train, X_test , y_bin_h_unh_train, y_bin_h_unh_test = train_test_split(X,y_bin_h_unh, test_size=0.2, random_state=42)"
   ]
  },
  {
   "cell_type": "code",
   "execution_count": 421,
   "id": "f3616fd0",
   "metadata": {},
   "outputs": [],
   "source": [
    "#Initializing the instance of the gridsearchcv\n",
    "gridsearch_bin_h_unh_recall = GridSearchCV(estimator = estimator, param_grid=param_grid, n_jobs=-1, return_train_score=False, cv=kfold, scoring='recall' )\n",
    "\n",
    "#Running the model on data\n",
    "gridsearch_bin_h_unh_recall.fit(X,y_bin_h_unh)\n",
    "\n",
    "#Getting the results of the grid search\n",
    "#The results are in the form of a dictionary containing all the combinations of hyperparameters, their test scores for each fold and their aggregate score\n",
    "gridsearch_results_bin_h_unh_prec = gridsearch_bin_h_unh_recall.cv_results_\n"
   ]
  },
  {
   "cell_type": "code",
   "execution_count": 422,
   "id": "ec458429",
   "metadata": {},
   "outputs": [
    {
     "name": "stdout",
     "output_type": "stream",
     "text": [
      "Best Recall of unhealthy class:  0.8889717166693067\n",
      "Best Parameters:  {'max_depth': 13, 'max_features': 4, 'min_samples_split': 64}\n"
     ]
    }
   ],
   "source": [
    "\n",
    "#Getting the best cross val score of the decision tree model\n",
    "print('Best Recall of unhealthy class: ',gridsearch_bin_h_unh_recall.best_score_)\n",
    "\n",
    "#The hyperparameters with which the best score arrived\n",
    "print('Best Parameters: ',gridsearch_bin_h_unh_recall.best_params_)"
   ]
  },
  {
   "cell_type": "markdown",
   "id": "57927668",
   "metadata": {},
   "source": [
    "## Lets cross validate the model with different fold than the one on which it gave best precision"
   ]
  },
  {
   "cell_type": "code",
   "execution_count": 597,
   "id": "f765a7ae",
   "metadata": {},
   "outputs": [
    {
     "name": "stdout",
     "output_type": "stream",
     "text": [
      "Obtained by tuning on precision of healthy class (Unhealthy=0, Healthy=1)\n",
      "\n",
      "Validated precision scores of healthy class: [0.7804878  0.86363636 0.7125     0.71929825 0.65060241] \n",
      "\n",
      "Mean Precision: 0.7453049647534004 \n",
      "\n",
      "Obtained by tuning on recall of unhealthy class (Healthy=0, UnHealthy=1)\n",
      "\n",
      "Validated recall scores of unhealthy class: [0.78       0.87       0.75490196 0.78787879 0.87037037] \n",
      "\n",
      "Mean Recall: 0.8126302238066943 \n",
      "\n"
     ]
    }
   ],
   "source": [
    "#Creating a decision tree classifier with the best parameters obtained\n",
    "decitree = DecisionTreeClassifier(max_depth= 13, max_features= 4, min_samples_split= 64, random_state=42)\n",
    "kfold = KFold(n_splits=5, shuffle=True)\n",
    "cv_score = cross_val_score(estimator=decitree, X=X, y=y_bin_unh_h, scoring='precision', cv = kfold )\n",
    "\n",
    "\n",
    "print('Obtained by tuning on precision of healthy class (Unhealthy=0, Healthy=1)\\n')\n",
    "print('Validated precision scores of healthy class:', cv_score, '\\n')\n",
    "print('Mean Precision:', cv_score.mean(), '\\n')\n",
    "\n",
    "\n",
    "#Creating a decision tree classifier with the best parameters obtained\n",
    "decitree = DecisionTreeClassifier(max_depth= 13, max_features= 4, min_samples_split= 64, random_state=42)\n",
    "kfold = KFold(n_splits=5, shuffle=True)\n",
    "cv_score = cross_val_score(estimator=decitree, X=X, y=y_bin_h_unh, scoring='recall', cv = kfold )\n",
    "\n",
    "print('Obtained by tuning on recall of unhealthy class (Healthy=0, UnHealthy=1)\\n')\n",
    "print('Validated recall scores of unhealthy class:', cv_score, '\\n')\n",
    "print('Mean Recall:', cv_score.mean(), '\\n')\n",
    "\n"
   ]
  },
  {
   "cell_type": "markdown",
   "id": "df810de9",
   "metadata": {},
   "source": [
    "## Running the cross validations multiple times we can see that the actual precision of healthy predictions range between 70% - 80% \n",
    "## Meaning : The 20% - 30% of the people predicted as healthy are actually not healthy"
   ]
  },
  {
   "cell_type": "markdown",
   "id": "558034f3",
   "metadata": {},
   "source": [
    "## Running the cross validations multiple times  with random shuffles we can see that the actual recall of unhealthy predictions range between 75% - 85% \n",
    "## Meaning : The 20% - 25% of the people who are unhealthy are predicted as healthy"
   ]
  },
  {
   "cell_type": "markdown",
   "id": "92d6c24d",
   "metadata": {},
   "source": [
    "# These two inferences say that the model isn't reliable predictor yet these results are best we have got so far so we will move forward with this model towards classifying the stage of heart problem"
   ]
  },
  {
   "cell_type": "markdown",
   "id": "34368bf4",
   "metadata": {},
   "source": [
    "# **PHASE-1 CLASSIFICATION"
   ]
  },
  {
   "cell_type": "code",
   "execution_count": 634,
   "id": "18708a87",
   "metadata": {},
   "outputs": [
    {
     "name": "stdout",
     "output_type": "stream",
     "text": [
      "Recall Score:  0.8387096774193549\n"
     ]
    },
    {
     "data": {
      "application/javascript": [
       "\n",
       "        if (window._pyforest_update_imports_cell) { window._pyforest_update_imports_cell('import pandas as pd\\nimport seaborn as sns\\nimport numpy as np\\nimport matplotlib.pyplot as plt'); }\n",
       "    "
      ],
      "text/plain": [
       "<IPython.core.display.Javascript object>"
      ]
     },
     "metadata": {},
     "output_type": "display_data"
    },
    {
     "data": {
      "text/plain": [
       "Index([865, 439, 736, 785, 837, 903, 735, 537, 906, 141,\n",
       "       ...\n",
       "       516, 845, 541,   5,  54, 722, 758, 580, 445, 786],\n",
       "      dtype='int64', length=104)"
      ]
     },
     "execution_count": 634,
     "metadata": {},
     "output_type": "execute_result"
    }
   ],
   "source": [
    "# Creating a train test split with target of binary classes\n",
    "#Performing train test split with ratio 80:20\n",
    "\n",
    "X_train, X_test , y_bin_h_unh_train, y_bin_h_unh_test = train_test_split(X,y_bin_h_unh, test_size=0.2, random_state=42)\n",
    "\n",
    "#Creating the classifier with the best parameters\n",
    "deci_tree = DecisionTreeClassifier(max_depth=13, max_features=4, min_samples_split=62, random_state=42)\n",
    "deci_tree.fit(X_train, y_bin_h_unh_train)\n",
    "y_pred = deci_tree.predict(X_test)\n",
    "recall = recall_score(y_bin_h_unh_test, y_pred)\n",
    "print('Recall Score: ',recall)\n",
    "\n",
    "#creating a dataframe of predicted values and actual values \n",
    "pred_and_actual = pd.DataFrame( y_pred, index=y_bin_h_unh_test.index, columns=['y_pred'])\n",
    "pred_and_actual['Actual'] = y_bin_h_unh_test\n",
    "\n",
    "#Getting the indices of those rows which were predicted as unhealthy\n",
    "test2_indices = pred_and_actual[pred_and_actual['y_pred']==1].index\n",
    "test2_indices \n"
   ]
  },
  {
   "cell_type": "markdown",
   "id": "835dc880",
   "metadata": {},
   "source": [
    "## After classifying our data into healthy and unhealthy we will classify those predicted as unhealthy into stages of heart problems\n",
    "## For this classification we will again find out the best parameters\n",
    "## For the 2nd phase classification training set will be the unhealthy instances from the previous training set\n",
    "## Test set will be instances predicted to be un healthy"
   ]
  },
  {
   "cell_type": "code",
   "execution_count": 658,
   "id": "eee91fff",
   "metadata": {},
   "outputs": [
    {
     "name": "stdout",
     "output_type": "stream",
     "text": [
      "X_train2 : 416\n",
      "y_train2 : 416\n",
      "X_test2 : 104\n",
      "y_test2 : 104\n"
     ]
    },
    {
     "data": {
      "application/javascript": [
       "\n",
       "        if (window._pyforest_update_imports_cell) { window._pyforest_update_imports_cell('import pandas as pd\\nimport seaborn as sns\\nimport numpy as np\\nimport matplotlib.pyplot as plt'); }\n",
       "    "
      ],
      "text/plain": [
       "<IPython.core.display.Javascript object>"
      ]
     },
     "metadata": {},
     "output_type": "display_data"
    },
    {
     "data": {
      "application/javascript": [
       "\n",
       "        if (window._pyforest_update_imports_cell) { window._pyforest_update_imports_cell('import pandas as pd\\nimport seaborn as sns\\nimport numpy as np\\nimport matplotlib.pyplot as plt'); }\n",
       "    "
      ],
      "text/plain": [
       "<IPython.core.display.Javascript object>"
      ]
     },
     "metadata": {},
     "output_type": "display_data"
    }
   ],
   "source": [
    "\n",
    "#Performing train test split with ratio 80:20\n",
    "X_train, X_test , y_train, y_test = train_test_split(X,y, test_size=0.2, random_state=42)\n",
    "\n",
    "#Creating the training and testing sets for the 2nd phase\n",
    "#Training sets are the unhealthy instances from the previous training set\n",
    "X_train2 = X_train[y_train>0]\n",
    "y_train2 = y_train[y_train>0]\n",
    "#Test set are those instances which were predicted to be unhealthy\n",
    "X_test2 = X_test.loc[test2_indices.tolist()]\n",
    "y_test2 = y_test.loc[test2_indices.tolist()]\n",
    "\n",
    "print('X_train2 :', len(X_train2))\n",
    "print('y_train2 :', len(y_train2),)\n",
    "print('X_test2 :', len(X_test2),)\n",
    "print('y_test2 :', len(y_test2),)\n",
    "\n",
    "X2 = pd.concat([X_train2, X_test2], axis=0)\n",
    "y2 = pd.concat([y_train2, y_test2], axis=0)"
   ]
  },
  {
   "cell_type": "markdown",
   "id": "c8068a9a",
   "metadata": {},
   "source": [
    "# Lets find the best parameters for the model for the 2nd phase classification"
   ]
  },
  {
   "cell_type": "code",
   "execution_count": 724,
   "id": "32c5db75",
   "metadata": {},
   "outputs": [],
   "source": [
    "#Initializing the values to pass in the gridsearchcv\n",
    "\n",
    "#Model with basix set parameters\n",
    "estimator = DecisionTreeClassifier(random_state=42)\n",
    "\n",
    "#Parameters with which the model will be tested\n",
    "param_grid = {'max_depth': list(range(3,20)), \n",
    "              'min_samples_split': list(range(2,90)),\n",
    "               'max_features': [\"auto\", \"sqrt\", \"log2\", 12, 11,10,9,8,7,6,5,4,3,2 ]\n",
    "             }\n",
    "#KFold instance\n",
    "kfold = KFold(n_splits=5, shuffle=True, random_state=42)\n"
   ]
  },
  {
   "cell_type": "code",
   "execution_count": 711,
   "id": "e9789170",
   "metadata": {},
   "outputs": [],
   "source": [
    "#Creating the gridsearch instance\n",
    "gridsearch = GridSearchCV(estimator=estimator, param_grid=param_grid, return_train_score=False, scoring='recall_macro', n_jobs=-1, cv = kfold)\n",
    "#passing our data to the grid search\n",
    "gridsearch.fit(X2, y2)\n",
    "#Getting the resukts of the grid search\n",
    "gridsearch_result = gridsearch.cv_results_"
   ]
  },
  {
   "cell_type": "code",
   "execution_count": 712,
   "id": "b0146cab",
   "metadata": {},
   "outputs": [
    {
     "name": "stdout",
     "output_type": "stream",
     "text": [
      "Best Recall Macro:  0.46592448651160473\n",
      "Best Parameters:  {'max_depth': 12, 'max_features': 11, 'min_samples_split': 12}\n"
     ]
    }
   ],
   "source": [
    "\n",
    "#Getting the best cross val score of the decision tree model\n",
    "print('Best Recall Macro: ',gridsearch.best_score_)\n",
    "\n",
    "#The hyperparameters with which the best score arrived\n",
    "print('Best Parameters: ',gridsearch.best_params_)"
   ]
  },
  {
   "cell_type": "code",
   "execution_count": 732,
   "id": "d6c7c631",
   "metadata": {},
   "outputs": [
    {
     "name": "stdout",
     "output_type": "stream",
     "text": [
      "recall [0.         0.69444444 0.5        0.3125     0.        ]\n"
     ]
    },
    {
     "data": {
      "text/plain": [
       "array([[ 0, 18,  1,  7,  0],\n",
       "       [ 0, 25,  2,  7,  2],\n",
       "       [ 0,  6, 10,  4,  0],\n",
       "       [ 0, 11,  0,  5,  0],\n",
       "       [ 0,  4,  1,  1,  0]], dtype=int64)"
      ]
     },
     "execution_count": 732,
     "metadata": {},
     "output_type": "execute_result"
    }
   ],
   "source": [
    "best_model = DecisionTreeClassifier(max_depth= 12, max_features= 11, min_samples_split= 12, random_state=42)\n",
    "best_model.fit(X_train2,y_train2)\n",
    "y_pred2 = best_model.predict(X_test2)\n",
    "recall = recall_score(y_test2, y_pred2, average=None)\n",
    "print('recall', recall)\n",
    "confusion_matrix(y_test2, y_pred2)"
   ]
  },
  {
   "cell_type": "markdown",
   "id": "e0e2de0b",
   "metadata": {},
   "source": [
    "## Although its macro recall is very poor\n",
    "## Confusion matrix suggests that it is the best performance that we have got till now "
   ]
  },
  {
   "cell_type": "markdown",
   "id": "c97150ca",
   "metadata": {},
   "source": [
    "# Using the 2 phase classification\n",
    "## Overall Recalls of\n",
    "## class 1 : 25/48 (12 predicted as healthy) = 52.08%\n",
    "## class 2 : 10/22 (2 predicted as healthy) = 45.45%\n",
    "## class 3 : 5/17 (1 predicted as healthy )= 29.41%\n",
    "## class 4 : 0/6  = 0.0%\n",
    "## Recalls of these unhealthy classes are the most important metric \n",
    "## This is the best that we have obtained"
   ]
  },
  {
   "cell_type": "markdown",
   "id": "2828d141",
   "metadata": {},
   "source": [
    "## Previously we had obtained best recalls \n",
    "## class 1 : 24/48 (17 predicted as healthy ) = 50%\n",
    "## class 2 : 10/22 (4 predicted as healthy ) = 45.45%\n",
    "## class 3 : 4/17 (4 predicted as healthy)= 23.52%\n",
    "## class 4 : 0/6  = (1 predicted as healthy) 0.0%\n",
    "# Our 2 phase classification did marginally better in terms of recalls\n",
    "# More significantly it has less number of unhealthy people marked as healthy\n"
   ]
  },
  {
   "cell_type": "code",
   "execution_count": null,
   "id": "6c10ea12",
   "metadata": {},
   "outputs": [],
   "source": []
  },
  {
   "cell_type": "markdown",
   "id": "7401333f",
   "metadata": {},
   "source": [
    "# Explaination of 2 Phase Classification Approach:\n",
    "## We converted a multi-class disease classification problem into a binary classification problem. We called it Phase-1 classification\n",
    "## We found out the best hyperparameters for the binary classification model using GridSearchCV\n",
    "## Best Phase-1 Model Parameters : max_depth=13, max_features=4, min_samples_split=64\n",
    "## Lets classify our test data into healthy and unhealthy using this model\n",
    "## Then in Phase-2 classification we will classify the stage of problem for those who are classified as unhealthy in Phase-1\n",
    "## In Phase-2 test data would be those instances that are predicted to be unhealthy in the phase-1\n",
    "## And training data would be all the unhealthy instances in the training data(X_train, y_train) of phase 1\n",
    "## Use the combined train and test data of phase-2 in the GridSearchCV to find the best hyperparameters for the Phase-2 Model\n",
    "## Best Phase-2 Model parameters : max_depth=12, max_features=11, min_samples_split=12\n",
    "## Use this Phase-2 model to classify the instances into different stages of heart problem"
   ]
  },
  {
   "cell_type": "markdown",
   "id": "9645d00b",
   "metadata": {},
   "source": [
    "# -------------------------------------------------------------------------------------------------------"
   ]
  },
  {
   "cell_type": "markdown",
   "id": "372a72a2",
   "metadata": {},
   "source": [
    "# Analysis of Evaluation Metrics"
   ]
  },
  {
   "cell_type": "markdown",
   "id": "cdb531b4",
   "metadata": {},
   "source": [
    "## Evaluation metrics like Accuracy, Precision, Recall, F1 Score are not optimal for evaluating the performance of models on multiclass disease classification \n",
    "## Because in this case recalls of unhealthy classes are very important that the healthy classes but there is no way we can tune our hyperparameters on the basis of recalls of specific classes. They must to be tuned on the basis of aggregated recalls which brings down the significance of the model\n",
    "## In order to evaluate the model's performance better we must read the confusion matrix."
   ]
  }
 ],
 "metadata": {
  "kernelspec": {
   "display_name": "Python 3 (ipykernel)",
   "language": "python",
   "name": "python3"
  },
  "language_info": {
   "codemirror_mode": {
    "name": "ipython",
    "version": 3
   },
   "file_extension": ".py",
   "mimetype": "text/x-python",
   "name": "python",
   "nbconvert_exporter": "python",
   "pygments_lexer": "ipython3",
   "version": "3.11.5"
  }
 },
 "nbformat": 4,
 "nbformat_minor": 5
}
